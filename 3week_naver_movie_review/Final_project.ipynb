{
 "cells": [
  {
   "attachments": {},
   "cell_type": "markdown",
   "metadata": {},
   "source": [
    "**프로젝트 요구사항**\n",
    "\n",
    "- `웹 크롤링`\n",
    "    - requests 패키지를 사용하여 웹 서버에 GET 요청을 보내고, 응답 객체를 해석할 수 있다.\n",
    "    - BeautifulSoup 함수를 활용하여 웹 문서를 구성 요소(element)를 탐색하고 필요한 값을 추출한다.\n",
    "    - find 메소드와 find_all 메소드를 구분하여 적용할 수 있다.\n",
    "    - 태그 이름과 태그를 구성하는 속성 정보를 이용할 수 있다.\n",
    "    - 문자열 포매팅을 활용하여 추출하려는 웹 페이지의 URL을 조합할 수 있다.\n",
    "- `한국어 형태소 분석`\n",
    "    - 인터넷에서 네이버 영화 리뷰 데이터셋을 찾아서, 판다스 데이터프레임으로 변환하여 준비한다.\n",
    "    - 한국어 형태소 분석기를 지원하는 KoNLPy를 설치하고 활용할 수 있다.\n",
    "    - 문장을 단어 단위로 분할하고, 분할된 단어들을 다시 문장으로 결합할 수 있다.\n",
    "    - 문장을 벡터로 표현하는 TF-IDF 벡터화 기법을 이해하고 적용할 수 있다. (sklearn 패키지의 TfidfVectorizer 활용)\n",
    "- `머신러닝 활용`\n",
    "    - LDA (LatentDirichletAllocation) 기법을 적용하여 토픽 모델링을 처리해 보고, 결과를 해석할 수 있다.\n",
    "    - pyLDAvis 시각화 라이브러리를 설치하고,  LDA 토픽 모델링 결과를 해석할 수 있다.\n",
    "    - 머신러닝 분류 알고리즘인 로지스틱 회귀(Logistic Regression)를 적용하여, 리뷰의 긍정 또는 부정 감성을 예측할 수 있다.\n",
    "    - 웹 크롤링을 통해서 수집한 네이버 영화 리뷰 텍스트를 분류 모델에 입력하여 긍정인지 부정인지 감성을 분류할 수 있다."
   ]
  },
  {
   "attachments": {},
   "cell_type": "markdown",
   "metadata": {},
   "source": [
    "## part 1. 네이버 영화 리뷰 크롤링 실습 가이드"
   ]
  },
  {
   "attachments": {},
   "cell_type": "markdown",
   "metadata": {},
   "source": [
    "> 네이버 영화 리뷰 페이지에 접속하기"
   ]
  },
  {
   "cell_type": "code",
   "execution_count": null,
   "metadata": {},
   "outputs": [],
   "source": [
    "#request 불러오기\n",
    "import requests \n",
    "import json\n",
    "\n",
    "url =  \"https://movie.naver.com/movie/bi/mi/review.naver?code=81888\" \n",
    "\n",
    "resp = requests.get(url)\n",
    "resp #-> 200 \n",
    "\n",
    "resp.text[400:500] #->서버 응답중 소스코드 부분 출력 "
   ]
  },
  {
   "attachments": {},
   "cell_type": "markdown",
   "metadata": {},
   "source": [
    "> BeautifulSoup 으로 HTML 해석하기\n",
    "\n",
    "* bs, request로 웹 파싱 참고 : https://library.gabia.com/contents/9239/ "
   ]
  },
  {
   "cell_type": "code",
   "execution_count": null,
   "metadata": {},
   "outputs": [],
   "source": [
    " #필요한 라이브러리 import\n",
    "from bs4 import BeautifulSoup as bs\n",
    "\n",
    "\n",
    "soup = bs(resp.text, 'html.parser') \n",
    "print(soup) #-> 파싱한 내용을 담은 객체 자료형 확인 -> head -> title -> 제목잇음"
   ]
  },
  {
   "attachments": {
    "image.png": {
     "image/png": "[encoded data removed]"
    }
   },
   "cell_type": "markdown",
   "metadata": {},
   "source": [
    "![image.png](attachment:image.png)"
   ]
  },
  {
   "attachments": {},
   "cell_type": "markdown",
   "metadata": {},
   "source": [
    "> 1) 영화제목 파싱"
   ]
  },
  {
   "cell_type": "code",
   "execution_count": null,
   "metadata": {},
   "outputs": [],
   "source": [
    "title_tag = soup.find(name='title')\n",
    "print(title_tag) #-><title>탑건: 매버릭 : 네이버 영화</title> \n",
    "\n",
    "title_text = title_tag.get_text()\n",
    "print(title_text) #-> 탑건: 매버릭 : 네이버 영화"
   ]
  },
  {
   "attachments": {},
   "cell_type": "markdown",
   "metadata": {},
   "source": [
    "> 2. 리뷰 갯수 파싱"
   ]
  },
  {
   "cell_type": "code",
   "execution_count": null,
   "metadata": {},
   "outputs": [],
   "source": [
    "# 리뷰 개수 확인 \n",
    "# span 태그의 class속성값을 활용해 리뷰 갯수 포함 요소 tag 찾기 \n",
    "count_tag = soup.find(name ='span', attrs={'class' : 'cnt'})\n",
    "print(\"count tag : {}\".format(count_tag))\n",
    "\n",
    "# count_tag 요소에서 em 태그 부분 찾기 \n",
    "count_tag =count_tag.find(name ='em')\n",
    "print('em tag : {}'.format(count_tag))\n",
    "\n",
    "# 텍스트 부분만 추출\n",
    "count_text = count_tag.get_text()\n",
    "print(\"text : {}\".format(count_text)) #-> 108 \n",
    "\n",
    "#count_tag = count_tag.find(name='em')\n",
    "#print('em 태그 : '.format(count_tag))"
   ]
  },
  {
   "attachments": {},
   "cell_type": "markdown",
   "metadata": {},
   "source": [
    "> 3. 리뷰 목록"
   ]
  },
  {
   "cell_type": "code",
   "execution_count": null,
   "metadata": {},
   "outputs": [],
   "source": [
    "# <ul class = \"rvw_list_area\">\n",
    "\n",
    "review_list_tag = soup.find(name ='ul', attrs={'class': 'rvw_list_area'})\n",
    "print(\"review list tag : {}\".format(len(review_list_tag)))\n",
    "\n",
    "review_list_tags = review_list_tag.find_all(name='li') #-> 실질적으로 내용이 있는 리뷰 \n",
    "print(len(review_list_tags))\n",
    "\n",
    "print(review_list_tags[0])"
   ]
  },
  {
   "cell_type": "code",
   "execution_count": null,
   "metadata": {},
   "outputs": [],
   "source": [
    "# 첫 번쨰 요소에서 리뷰 제목(rli_title), 사용자(rli_uid), 내용 데이터(rli.content) 추출\n",
    "#리뷰 제목\n",
    "review_title = review_list_tags[0].find_all('a')[0].get_text()\n",
    "print('review title : {}'.format(review_title))\n",
    "#사용자\n",
    "review_uid = review_list_tags[0].find_all('a')[1].get_text()\n",
    "print('review uid : {}'.format(review_uid))\n",
    "#내용데이터\n",
    "review_content = review_list_tags[0].find_all('a')[2].get_text()\n",
    "print('review content : {}'.format(review_content))"
   ]
  },
  {
   "cell_type": "code",
   "execution_count": null,
   "metadata": {},
   "outputs": [],
   "source": [
    "# 각 리뷰 페이지로 연결한 nid값 을 포함하는 jS 코드 추출\n",
    "review_nid = review_list_tags[0].find('a').get('onclick')\n",
    "review_nid \n",
    "\n",
    "# js 코드에서 7자리 숫자 추출 (정규식 re 모듈 활용)\n",
    "import re\n",
    "review_nid = re.findall('\\d{7}', review_nid)[0]\n",
    "review_nid #-> 4808692"
   ]
  },
  {
   "cell_type": "code",
   "execution_count": null,
   "metadata": {},
   "outputs": [],
   "source": [
    "#URL 조합하기 \n",
    "# https://movie.naver.com/movie/bi/mi/reviewread.naver?nid=4808692&code=81888&order=#tab nid값이 존재!\n",
    "review_url = f\"https://movie.naver.com/movie/bi/mi/reviewread.naver?nid={review_nid}&code=81888&order=#tab\"\n",
    "\n",
    "print(f\"상세 리뷰 페이지 : {review_url}\")\n"
   ]
  },
  {
   "cell_type": "code",
   "execution_count": null,
   "metadata": {},
   "outputs": [],
   "source": [
    "#위의 형식에 맞춰 반복문으로 10개 리뷰를 조회해서 리뷰 제목(rli.title) 및 사용자(rli.uid), 상세 페이지 url 값 추출하기\n",
    "\n",
    "title_list = list()\n",
    "uid_list = list()\n",
    "url_list = list()\n",
    "\n",
    "for li_tag in review_list_tags:\n",
    "    \n",
    "    review_title = li_tag.find_all('a')[0].get_text() #a태그에 있는 요소 중 text로 이루어진 파일 가지고오기 \n",
    "    title_list.append(review_title)\n",
    "    \n",
    "    review_uid = li_tag.find_all('a')[1].get_text()\n",
    "    uid_list.append(review_uid)\n",
    "    \n",
    "    review_url_nid =  re.findall('\\d{7}', li_tag.find('a').get('onclick'))[0]\n",
    "    \n",
    "    review_url = f\"https://movie.naver.com/movie/bi/mi/reviewread.naver?nid={review_url_nid}&code=81888&order=#tab\"\n",
    "    \n",
    "    url_list.append(review_url)\n",
    "    \n",
    "print(f'title_li : {title_list}')\n",
    "print(f'uid_li : {uid_list}')\n",
    "print(f'url_li : {url_list}')"
   ]
  },
  {
   "attachments": {},
   "cell_type": "markdown",
   "metadata": {},
   "source": [
    "> 4 리뷰 상세 페이지 탐색"
   ]
  },
  {
   "attachments": {
    "image.png": {
     "image/png": "[encoded data removed]"
    }
   },
   "cell_type": "markdown",
   "metadata": {},
   "source": [
    "![image.png](attachment:image.png)"
   ]
  },
  {
   "cell_type": "code",
   "execution_count": null,
   "metadata": {},
   "outputs": [],
   "source": [
    "# 리뷰 상세페이지의 HTML 소스 ㅋ코드를 가지고와서 파싱\n",
    "resp_text = requests.get(url_list[0], headers = { 'User-agent' : 'agent'}) #-> 200\n",
    "soup_text = bs(resp_text.text, 'html.parser') #-> html 소스코드 파싱 완료\n",
    "# 리뷰 본문 텍스트 추출\n",
    "review_text_tag = soup_text.find(name='div', attrs={'class':'user_tx_area'})\n",
    "review_text = review_text_tag.get_text() #텍스트 부분만 추출 \n",
    "print(review_text)"
   ]
  },
  {
   "cell_type": "code",
   "execution_count": null,
   "metadata": {},
   "outputs": [],
   "source": [
    "text_list = [] \n",
    "for url in url_list:\n",
    "    \n",
    "    resp_text = requests.get(url, headers={'User-agent' : 'agent'})\n",
    "    soup_text = bs(resp_text.text, 'html.parser') #> html 소스 코드 파싱 완료 \n",
    "    \n",
    "    # 본문 텍스트 추출\n",
    "    review_text_tag = soup_text.find(name ='div', attrs={'class': 'user_tx_area'})\n",
    "    review_text = review_text_tag.get_text()\n",
    "    text_list.append(review_text)\n",
    "\n",
    "    print(review_text[0:200])"
   ]
  },
  {
   "attachments": {},
   "cell_type": "markdown",
   "metadata": {},
   "source": [
    "> 6. 판다스 데이터프레임으로 정리 및 CSV 파일 저장"
   ]
  },
  {
   "cell_type": "code",
   "execution_count": null,
   "metadata": {},
   "outputs": [],
   "source": [
    "#딕셔너리 형식으로 항목별 리스트를 원소로 추가\n",
    "dict_data = {\n",
    "    'title' : title_list,\n",
    "    'user' : uid_list,\n",
    "    'review' : text_list\n",
    "}\n",
    "#DF 로 변환\n",
    "import pandas as pd \n",
    "df_data =pd.DataFrame(dict_data)\n",
    "\n",
    "df_data"
   ]
  },
  {
   "cell_type": "code",
   "execution_count": null,
   "metadata": {},
   "outputs": [],
   "source": [
    "#csv파일로 저장\n",
    "df_data.to_csv('./data/naver_review_topgun.csv')"
   ]
  },
  {
   "attachments": {},
   "cell_type": "markdown",
   "metadata": {},
   "source": [
    "## part 2. 자연어 처리"
   ]
  },
  {
   "attachments": {},
   "cell_type": "markdown",
   "metadata": {},
   "source": [
    "1. 네이버 영화 리뷰 데이터셋을 활용하여, 자연어 모델링을 위한 형태소 분석 등 전처리 기법을 학습합니다.\n",
    "\n",
    "2. 전처리된 자연어 데이터를 벡터화하는 TF-IDF 기법을 이해합니다.\n",
    "\n",
    "3. 벡터화된 데이터를 활용하여 토픽 모델링과 감성분석 모델링을 실습해봅니다."
   ]
  },
  {
   "attachments": {},
   "cell_type": "markdown",
   "metadata": {},
   "source": [
    "> 라이브러리 불러오기"
   ]
  },
  {
   "cell_type": "code",
   "execution_count": null,
   "metadata": {},
   "outputs": [],
   "source": [
    "import pandas as pd \n",
    "import numpy as np \n",
    "\n",
    "import os, re\n",
    "from tqdm import tqdm \n",
    "\n",
    "#경고 문구 미표시\n",
    "import warnings\n",
    "warnings.filterwarnings('ignore') #무시 \n",
    "\n",
    "#한글폰트 지정\n",
    "import matplotlib.pyplot as plt \n",
    "plt.rc('font', family='NanumBarunGothic')"
   ]
  },
  {
   "attachments": {},
   "cell_type": "markdown",
   "metadata": {},
   "source": [
    "> 네이버 영화 리뷰 데이터 다운 "
   ]
  },
  {
   "cell_type": "code",
   "execution_count": null,
   "metadata": {},
   "outputs": [],
   "source": [
    "# 다운 받을 폴더 준비\n",
    "DATA_DIR = './data'\n",
    "os.makedirs(DATA_DIR, exist_ok= True)\n"
   ]
  },
  {
   "attachments": {},
   "cell_type": "markdown",
   "metadata": {},
   "source": [
    "> #### (로컬에서 실습할 경우) 파이토치 설치: conda install pytorch==1.12.0 -c pytorch \n",
    "> #### (로컬에서 실습할 경우) torchtext 설치: conda install -c pytorch torchtext "
   ]
  },
  {
   "cell_type": "code",
   "execution_count": null,
   "metadata": {},
   "outputs": [],
   "source": [
    "import torchtext"
   ]
  },
  {
   "cell_type": "code",
   "execution_count": null,
   "metadata": {},
   "outputs": [],
   "source": [
    "torchtext.utils.download_from_url(url='https://raw.githubusercontent.com/e9t/nsmc/master/ratings_train.txt', \n",
    "                                  path=os.path.join(DATA_DIR, 'review.txt'))"
   ]
  },
  {
   "cell_type": "code",
   "execution_count": null,
   "metadata": {},
   "outputs": [],
   "source": [
    "data = pd.read_csv('./data/review.txt', sep = '\\t') #txt파일 DF 읽어오기\n",
    "data.head()\n",
    "data.info()"
   ]
  },
  {
   "attachments": {},
   "cell_type": "markdown",
   "metadata": {},
   "source": [
    "> 한글 형태소 분석"
   ]
  },
  {
   "attachments": {},
   "cell_type": "markdown",
   "metadata": {},
   "source": [
    "> -1) KoNLPy 설치\n",
    "* https://konlpy.org/ko/latest/install/ 로컬설치"
   ]
  },
  {
   "cell_type": "code",
   "execution_count": null,
   "metadata": {},
   "outputs": [],
   "source": [
    "# 긍정 리뷰를 하나 선택\n",
    "sample_text = data['document'][149978]\n",
    "print(type(sample_text)) #-> str\n",
    "print(sample_text)"
   ]
  },
  {
   "cell_type": "code",
   "execution_count": null,
   "metadata": {},
   "outputs": [],
   "source": [
    "# 트위터 형태소 분석기(Okt)를 활용\n",
    "from konlpy.utils import pprint\n",
    "from konlpy.tag import Okt\n",
    "\n",
    "\n",
    "okt = Okt()\n",
    "print(okt)"
   ]
  },
  {
   "attachments": {},
   "cell_type": "markdown",
   "metadata": {},
   "source": [
    "#에러뜨면 이거 참고 https://muten.tistory.com/13 15버전으로 해야됨 "
   ]
  },
  {
   "cell_type": "code",
   "execution_count": null,
   "metadata": {},
   "outputs": [],
   "source": [
    "# (단어 ,품사) 추출\n",
    "tokens = okt.pos(sample_text)\n",
    "pprint(tokens)"
   ]
  },
  {
   "cell_type": "code",
   "execution_count": null,
   "metadata": {},
   "outputs": [],
   "source": [
    "#단어만 추출  morphs \n",
    "tokens = okt.morphs(sample_text)\n",
    "pprint(tokens)"
   ]
  },
  {
   "cell_type": "code",
   "execution_count": null,
   "metadata": {},
   "outputs": [],
   "source": [
    "# 명사만 추출 okt.nouns(data)\n",
    "tokens = okt.nouns(sample_text)\n",
    "pprint(tokens)"
   ]
  },
  {
   "attachments": {},
   "cell_type": "markdown",
   "metadata": {},
   "source": [
    "> 3.텍스트 전처리"
   ]
  },
  {
   "cell_type": "code",
   "execution_count": null,
   "metadata": {},
   "outputs": [],
   "source": [
    "#okt 분석 도구 중 명사를 추출하는 함수를 사용해 각 리뷰문장에서 명사를 토큰화시킴 -> 이 떄, 두 글자 이하의 단어를 분석대상에서 제외\n",
    "\n",
    "#누락 데이터 제거\n",
    "review_data = data['document'].dropna().values\n",
    "type(review_data)#-> 누락제거 및 공백 제거, array\n",
    "\n",
    "#학습 속도 고려해 1000개 샘플을 선택해 추출\n",
    "review_data =review_data[:1000]\n",
    "\n",
    "#배열 크기\n",
    "print(f\"배열 크기 : {review_data.shape}\") #-> 1000\n",
    "\n",
    "#첫번쨰 데이터\n",
    "print(f\"첫번쨰 데이터 : {review_data[1]}\")\n"
   ]
  },
  {
   "cell_type": "code",
   "execution_count": null,
   "metadata": {},
   "outputs": [],
   "source": [
    "# 세글자 이상 명사를 사용 (두글자 이하는 제거)\n",
    "clean_review_data = list()\n",
    "\n",
    "for review in tqdm(review_data):\n",
    "    tokens = okt.nouns(review)\n",
    "    cleaned_tokens = list()\n",
    "    for word in tokens:\n",
    "        if len(word) > 3:\n",
    "            cleaned_tokens.append(word)\n",
    "        else:\n",
    "            pass\n",
    "    cleaned_review = ' '.join(tokens)\n",
    "    clean_review_data.append(cleaned_review)\n",
    "    \n",
    "print(len(clean_review_data))\n",
    "print(clean_review_data[0:20]) "
   ]
  },
  {
   "attachments": {},
   "cell_type": "markdown",
   "metadata": {},
   "source": [
    "> 4) TF-IDF 벡터로 표현 \n",
    "\n",
    "LDA, 로지스틱 회귀 등 머신러닝의 입력값은 수치형태로 표현된 매트릭스입니다. 머신러닝 모델을 활용하기 위해 이 프로젝트에서는 TF-IDF의 형태로 텍스트 문서를 수치화 합니다."
   ]
  },
  {
   "cell_type": "code",
   "execution_count": null,
   "metadata": {},
   "outputs": [],
   "source": []
  },
  {
   "cell_type": "code",
   "execution_count": null,
   "metadata": {},
   "outputs": [],
   "source": [
    "# pip install scikit-learn #사이킷런 설치 \n",
    "\n",
    "# 사이킷런 패키지 활용 \n",
    "from sklearn.feature_extraction.text import TfidfVectorizer\n",
    "\n",
    "\n",
    "# TF-IDF 변환기 객체 생성\n",
    "tfid = TfidfVectorizer()\n",
    "\n",
    "# TF-IDF 변환기에 데이터를 입력해 반환 \n",
    "review_tfid = tfid.fit_transform(clean_review_data)\n",
    "\n",
    "# 배열 크기\n",
    "print(review_tfid.shape) #-> 1000, 2040(=단어 사전 ㅋ기) \n",
    "\n",
    "# 첫번쨰데이터\n",
    "print(review_tfid[0])\n"
   ]
  },
  {
   "cell_type": "code",
   "execution_count": null,
   "metadata": {},
   "outputs": [],
   "source": [
    "# 단어 사전 확인 (딕셔너리 형태)\n",
    "vocab = tfid.vocabulary_\n",
    "\n",
    "# 단어 사전 크기\n",
    "print(len(vocab)) #-> 2040\n",
    "\n",
    "#단어 사전 출력 (앞에서 5개 단어만 출력)\n",
    "print(\n",
    "    {k : v for i, (k, v) in enumerate(vocab.items()) if i < 5} #5개 단어만 출력\n",
    ") # k : word , v : index\n"
   ]
  },
  {
   "cell_type": "code",
   "execution_count": null,
   "metadata": {},
   "outputs": [],
   "source": [
    "# 단어들의 사전 인덱스를 이용해 원래 단어 검색하는 매핑 딛ㄱ셔너리\n",
    "index_to_word = {v:k for k, v in vocab.items()}\n",
    "\n",
    "print(\n",
    "    {k : v for i, (k, v) in enumerate(index_to_word.items()) if i < 5}\n",
    ")  #-> k : index , v : word"
   ]
  },
  {
   "cell_type": "code",
   "execution_count": null,
   "metadata": {},
   "outputs": [],
   "source": [
    "# 첫번쨰 리뷰를 구성하는 단어의 사전 인덱스이용해 원래 단어 복원 (순서 복원 x)\n",
    "\n",
    "original_text = ' '.join([index_to_word[word_idx] for word_idx in review_tfid[0].indices])\n",
    "\n",
    "original_text"
   ]
  },
  {
   "attachments": {},
   "cell_type": "markdown",
   "metadata": {},
   "source": [
    "> ### Topic Modeling\n",
    "\n",
    "문서는 여러 종류의 단어들의 집합체로 구성, 문서를 구성하는 단어들의 확률분포를 활용해 문서의 토픽을 파악할 수 있음!"
   ]
  },
  {
   "attachments": {},
   "cell_type": "markdown",
   "metadata": {},
   "source": [
    "> #### 1) LDA (LatentDirichletAllocation)**\n",
    "\n",
    "LDA 토픽 모델링을 이용하여, 문서로부터 두 종류의 토픽을 추출합니다. 문서의 감성(긍정, 부정) 형태로 토픽이 추출되는지, 아니면 다른 종류의 토픽이 추출되는지 분석하세요."
   ]
  },
  {
   "cell_type": "code",
   "execution_count": null,
   "metadata": {},
   "outputs": [],
   "source": [
    "# 사이킷런 패키지 활용\n",
    "from sklearn.decomposition import LatentDirichletAllocation\n",
    "\n",
    "# LDA 모델링 객체를 생성 (토픽 갯수를 2로 설정: 긍정/부정)\n",
    "lda = LatentDirichletAllocation(2)  \n",
    "\n",
    "# TF-IDF 벡터를 입력하여 모델 학습 \n",
    "lda.fit(review_tfid)"
   ]
  },
  {
   "cell_type": "code",
   "execution_count": null,
   "metadata": {},
   "outputs": [],
   "source": [
    "# 토픽 모델링 결과를 담고 있는 배열의 형태 : (2개의 토픽, 2157개의 단어)\n",
    "print(lda.components_.shape) #-> 2개(긍정/부정) 2040개 단어 "
   ]
  },
  {
   "cell_type": "code",
   "execution_count": null,
   "metadata": {},
   "outputs": [],
   "source": [
    "# 2040개 단어중 토픽 별로 가장 중요도 높은 단어 10개씩 출력\n",
    "\n",
    "for idx, topic in enumerate(lda.components_):\n",
    "    print(f\"토픽 유형 {idx+1} : \",[(index_to_word[i], topic[i].round(3)) for i in topic.argsort()[:-30:-1]])"
   ]
  },
  {
   "attachments": {},
   "cell_type": "markdown",
   "metadata": {},
   "source": [
    "> #### 1) pyLDAvis 시각화\n",
    "\n",
    "pyLDAvis 패키지를 활용하여, LDA 토픽 모델링 경과를 시각화 합니다."
   ]
  },
  {
   "cell_type": "code",
   "execution_count": null,
   "metadata": {},
   "outputs": [],
   "source": [
    "# pip install pyldavis 설치\n",
    "import pyLDAvis.sklearn\n",
    "pyLDAvis.enable_notebook()\n",
    "visualization = pyLDAvis.sklearn.prepare(lda, review_tfid, tfid)\n",
    "pyLDAvis.display(visualization)"
   ]
  },
  {
   "attachments": {},
   "cell_type": "markdown",
   "metadata": {},
   "source": [
    "> ## Sentimental Analysis (감성 분석)\n",
    "\n",
    "감성 분석은 문장(텍스트)에 드러나는 사람들의 생각이나 느낌, 성향과 같이 주관적인 감성을 분석하는 자연어 처리 기법입니다. 머신러닝 분류 모델을 활용하여 문장이 갖는 긍정 또는 부정의 감성을 예측하세요."
   ]
  },
  {
   "cell_type": "markdown",
   "metadata": {},
   "source": [
    "> ### 1. 머신러닝 알고리즘을 활용하여, 긍정/부정 감성을 분류"
   ]
  },
  {
   "cell_type": "code",
   "execution_count": null,
   "metadata": {},
   "outputs": [],
   "source": [
    "labels = data['label'].iloc[:1000].values \n",
    "print(labels.shape)\n",
    "print(labels[:5])"
   ]
  },
  {
   "cell_type": "code",
   "execution_count": null,
   "metadata": {},
   "outputs": [],
   "source": [
    "# 사이킷런 패키지 활용\n",
    "from sklearn.linear_model import LogisticRegression\n",
    "\n",
    "# 로지스틱 분류 모델링 객체 생성\n",
    "lr = LogisticRegression()\n",
    "\n",
    "lr.fit(review_tfid, labels)"
   ]
  },
  {
   "cell_type": "code",
   "execution_count": null,
   "metadata": {},
   "outputs": [],
   "source": [
    "# 첫 번째 샘플을 이용하여 모델 예측\n",
    "pred = lr.predict(review_tfid[0])\n",
    "print(pred)"
   ]
  },
  {
   "attachments": {},
   "cell_type": "markdown",
   "metadata": {},
   "source": [
    "> ### 2. Part 1에서 수집한 리뷰를 긍정, 부정으로 감성 분류 예측"
   ]
  },
  {
   "cell_type": "code",
   "execution_count": null,
   "metadata": {},
   "outputs": [],
   "source": [
    "# 폴더에 csv 파일 업로드 (./data/naver_review_topgun.csv)\n",
    "\n",
    "# df로 읽어기\n",
    "test = pd.read_csv('./data/naver_review_topgun.csv')\n",
    "\n",
    "test.head()"
   ]
  },
  {
   "cell_type": "code",
   "execution_count": null,
   "metadata": {},
   "outputs": [],
   "source": [
    "# 첫번쨰리뷰 선택\n",
    "test_sample = test['review'][0]\n",
    "test_sample"
   ]
  },
  {
   "cell_type": "code",
   "execution_count": null,
   "metadata": {},
   "outputs": [],
   "source": [
    "#한글뺴고 다 제거 \n",
    "test_sample = re.sub(r\"[^가-힣]\",\"\", test_sample)\n",
    "test_sample"
   ]
  },
  {
   "cell_type": "code",
   "execution_count": 54,
   "metadata": {},
   "outputs": [
    {
     "data": {
      "text/plain": [
       "'탑건 버릭 감독 코 스키 출연 톰크루즈 제니퍼 코넬 리 마일 텔러 개봉 미국 평점 리뷰 보기 이영화 주전 결혼식 준비 이제 탑건 매 버릭 후기 정식 개봉 전 평론 단 리뷰 매우 기대 고등학생 때 톰크루즈 및 다른 헐리우드 배우 들 필 싹 년대 끝 자락 로서 년대 영화 영 지라 탑건 본적 탑건 매 버릭 이틀 전 년 개봉 탑건 탑건 안 무방 오프닝 탑건 오마주 제대로 탑건 후 속편 감상 무조건 탑건 보고 탑건 매 버릭 감상 강력 추천 탑건 청춘영화 자체 모두 가동 톰크루즈 외모 년대 탑건 이유 톰크루즈 미모 때문 정도 당시 분위기 탑건 각본 다른 영화 비교 해크 게다 게 년대 특 유의 청춘영화 분위기 영화 동영상 탑건 매 버릭 메인 예고편 하늘 스펙 타 액션 톰크루즈 항공 액션 블록버스터 탑건 매 버릭 월일 극장 고공 레이스 합류 탑건 매 버릭 한국 은월 일로 개봉 대신 톰크루즈 마일 텔러 글렌 포웰 내한 프로모션 돌기 다 해외 프로모션 개념 개념 장본인 이바 톰크루즈 다 심지어 년대 당시 한국 프로모션 상국 가가 불구 톰크루즈 처음 영화 프로모션 한국 방문 하니 톰 아저씨 닉값 년 탑건 매 버릭 현시 반영 영화 년대 인터넷 컴퓨터 아날로그 세대 디지털 시대 살 지금 사람 더 이상 전투기 조종 최첨단 무인전투기 사용 시작 탑건 매 버릭 와 관련 주제 대화 조종사 곧 멸종 대목 세대 서시대 상황 것 볼수 조금 다년 탑건 왜 성공 가 상황 탑건 매 버릭 이서구 폭발 인기 이유 알것 요즘 영화사 프렌 차이 히어로 물 위주 영화관 향 발길 년대 당시 청년 분 이제 중년 노년 탑건 속편 보기 위해 다시 영화관 해외 리뷰 탑건 매 버릭 합류 제니퍼 코넬 리 톰크루즈 러브 라인 배우 본체 둘 다대 초 중반 후반 임 불구 년 전탑 건의 청춘 무드 그대로 영화 위 플래쉬 주연 마일 텔러 가조 코신 스키 감독 다시 한번 호흡 마일 텔러 조 코신 스키 감독 전작 온 더 브레이브 막내 소방관 출연 마일 텔러 니콜라스홀트 와글 렌 포웰 을제 구스 아들 루스 터 역할 캐스팅 마일 텔러 인터뷰 배우 각자 콜사인 다마 일 는 중 아버지 콜사인 이구 스 루스 터 결정 눈물 좔좔 루스 터 역할 오디션 글렌 포웰 현지 여성 팬 꽤 루스 터 배역 행맨 주요한 역할 출연 년대 시알 탕 해군 조종사 사이 여성 조종사 볼수 영화 보기 전 사전 정보 검색 편 탑건 매 버릭 루이스 풀 최근 아우 터 레인지 아마존 프라임 시리즈 아우 터 레인지 터프 카우보이 역할 매 버릭 밥 자체 비교 재미 프라임 비디오 신작 아우 터 레인 지노 스포 영업 글 프라임 비디오 신작 초자연 미스테리 스릴러 미국드라마 아우 터 레인지 마 영화 속 에쓰 기종은 톰크루즈 실제 소유 비행기 다톰 아저씨 실제 비행 조종 파일럿 자격증 다 미션임파서블 시리즈 고모 스턴 트 연기 직접 것 톰 시제 발 위 말 탑건 청춘영화 탑건 매 버릭 프리퀄 후속작 사람 이현재 개봉 한지 꽤 불구 점수 유지 이영화 후'"
      ]
     },
     "execution_count": 54,
     "metadata": {},
     "output_type": "execute_result"
    }
   ],
   "source": [
    "# 세글자 이상의 명사만 가지고 오기\n",
    "tokens = okt.nouns(test_sample)\n",
    "cleaned_tokens = list()\n",
    "\n",
    "for word in tokens:\n",
    "    if len(word) > 3:\n",
    "        cleaned_tokens.append(word)\n",
    "    else:\n",
    "        pass\n",
    "cleaned_review = ' '.join(tokens)\n",
    "        \n",
    "cleaned_review   "
   ]
  },
  {
   "cell_type": "markdown",
   "metadata": {},
   "source": []
  },
  {
   "cell_type": "markdown",
   "metadata": {},
   "source": []
  }
 ],
 "metadata": {
  "kernelspec": {
   "display_name": "Python 3",
   "language": "python",
   "name": "python3"
  },
  "language_info": {
   "codemirror_mode": {
    "name": "ipython",
    "version": 3
   },
   "file_extension": ".py",
   "mimetype": "text/x-python",
   "name": "python",
   "nbconvert_exporter": "python",
   "pygments_lexer": "ipython3",
   "version": "3.9.6"
  },
  "orig_nbformat": 4,
  "vscode": {
   "interpreter": {
    "hash": "31f2aee4e71d21fbe5cf8b01ff0e069b9275f58929596ceb00d14d90e3e16cd6"
   }
  }
 },
 "nbformat": 4,
 "nbformat_minor": 2
}
