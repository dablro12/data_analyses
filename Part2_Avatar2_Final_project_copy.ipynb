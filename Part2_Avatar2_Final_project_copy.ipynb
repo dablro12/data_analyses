{
  "nbformat": 4,
  "nbformat_minor": 0,
  "metadata": {
    "colab": {
      "provenance": [],
      "mount_file_id": "1-uO0Tn7jqgbgTesUO7PrB3iWX3NZsYRZ",
      "authorship_tag": "ABX9TyO6nKFLEISRySp1Q73w1iua",
      "include_colab_link": true
    },
    "kernelspec": {
      "name": "python3",
      "display_name": "Python 3"
    },
    "language_info": {
      "name": "python"
    }
  },
  "cells": [
    {
      "cell_type": "markdown",
      "metadata": {
        "id": "view-in-github",
        "colab_type": "text"
      },
      "source": [
        "<a href=\"https://colab.research.google.com/github/dablro12/data_analyses/blob/main/Part2_Avatar2_Final_project_copy.ipynb\" target=\"_parent\"><img src=\"https://colab.research.google.com/assets/colab-badge.svg\" alt=\"Open In Colab\"/></a>"
      ]
    },
    {
      "cell_type": "code",
      "execution_count": 3,
      "metadata": {
        "colab": {
          "base_uri": "https://localhost:8080/"
        },
        "id": "shVecyFOSOj4",
        "outputId": "dd459d8c-d046-48ac-ae05-12921b832404"
      },
      "outputs": [
        {
          "output_type": "stream",
          "name": "stdout",
          "text": [
            "Reading package lists... Done\n",
            "Building dependency tree       \n",
            "Reading state information... Done\n",
            "fonts-nanum is already the newest version (20180306-3).\n",
            "The following package was automatically installed and is no longer required:\n",
            "  libnvidia-common-510\n",
            "Use 'sudo apt autoremove' to remove it.\n",
            "0 upgraded, 0 newly installed, 0 to remove and 27 not upgraded.\n",
            "/usr/share/fonts: caching, new cache contents: 0 fonts, 1 dirs\n",
            "/usr/share/fonts/truetype: caching, new cache contents: 0 fonts, 3 dirs\n",
            "/usr/share/fonts/truetype/humor-sans: caching, new cache contents: 1 fonts, 0 dirs\n",
            "/usr/share/fonts/truetype/liberation: caching, new cache contents: 16 fonts, 0 dirs\n",
            "/usr/share/fonts/truetype/nanum: caching, new cache contents: 10 fonts, 0 dirs\n",
            "/usr/local/share/fonts: caching, new cache contents: 0 fonts, 0 dirs\n",
            "/root/.local/share/fonts: skipping, no such directory\n",
            "/root/.fonts: skipping, no such directory\n",
            "/usr/share/fonts/truetype: skipping, looped directory detected\n",
            "/usr/share/fonts/truetype/humor-sans: skipping, looped directory detected\n",
            "/usr/share/fonts/truetype/liberation: skipping, looped directory detected\n",
            "/usr/share/fonts/truetype/nanum: skipping, looped directory detected\n",
            "/var/cache/fontconfig: cleaning cache directory\n",
            "/root/.cache/fontconfig: not cleaning non-existent cache directory\n",
            "/root/.fontconfig: not cleaning non-existent cache directory\n",
            "fc-cache: succeeded\n"
          ]
        }
      ],
      "source": [
        "# (구글 코랩에서 실습할 경우) 아래 코드를 실행하여 한글 폰트를 설치합니다. \n",
        "# 설치가 완료되면, 커널을 재시작합니다. (상단 메뉴에서 [런타임] - [런타임 다시 시작] 을 선택)\n",
        "\n",
        "# (로컬 PC에서 작업할 경우) 이 코드를 실행하지 않습니다!!!\n",
        "\n",
        "!sudo apt-get install -y fonts-nanum\n",
        "!sudo fc-cache -fv\n",
        "!rm ~/.cache/matplotlib -rf"
      ]
    },
    {
      "cell_type": "code",
      "source": [
        "import pandas as pd\n",
        "import numpy as np\n",
        "\n",
        "import os, re\n",
        "from tqdm import tqdm\n",
        "\n",
        "# 경고문구 미표시\n",
        "import warnings\n",
        "warnings.filterwarnings('ignore')\n",
        "\n",
        "# 한글 폰트 지정\n",
        "import matplotlib.pyplot as plt\n",
        "plt.rc('font', family='NanumBarunGothic')"
      ],
      "metadata": {
        "id": "03UZZdNtSuvW"
      },
      "execution_count": 4,
      "outputs": []
    },
    {
      "cell_type": "code",
      "source": [
        "# 다운로드 받을 폴더를 준비\n",
        "DATA_DIR = \"./data\"\n",
        "os.makedirs(DATA_DIR, exist_ok=True)"
      ],
      "metadata": {
        "id": "LsHbpU30Swre"
      },
      "execution_count": 5,
      "outputs": []
    },
    {
      "cell_type": "code",
      "source": [
        "# 데이터 다운로드 \n",
        "import torchtext \n",
        "torchtext.utils.download_from_url(url='https://raw.githubusercontent.com/e9t/nsmc/master/ratings_train.txt', \n",
        "                                  path=os.path.join(DATA_DIR, 'review.txt'))"
      ],
      "metadata": {
        "colab": {
          "base_uri": "https://localhost:8080/",
          "height": 53
        },
        "id": "YaMYRS9HSyRh",
        "outputId": "c0dc939d-733d-4996-962f-c12a3037c80f"
      },
      "execution_count": 6,
      "outputs": [
        {
          "output_type": "stream",
          "name": "stderr",
          "text": [
            "14.6MB [00:00, 46.0MB/s]\n"
          ]
        },
        {
          "output_type": "execute_result",
          "data": {
            "text/plain": [
              "'/content/data/review.txt'"
            ],
            "application/vnd.google.colaboratory.intrinsic+json": {
              "type": "string"
            }
          },
          "metadata": {},
          "execution_count": 6
        }
      ]
    },
    {
      "cell_type": "code",
      "source": [
        "# txt 파일을 판다스 데이터프레임으로 읽어오기\n",
        "data = pd.read_csv('./data/review.txt', sep='\\t')\n",
        "\n",
        "# 데이터프레임의 크기\n",
        "print(data.shape)\n",
        "\n",
        "# 첫 5행을 출력\n",
        "data.head()"
      ],
      "metadata": {
        "colab": {
          "base_uri": "https://localhost:8080/",
          "height": 223
        },
        "id": "J4ijhw2FS1PI",
        "outputId": "039edb93-0e40-45e7-d137-cb7cfdf3cea9"
      },
      "execution_count": 8,
      "outputs": [
        {
          "output_type": "stream",
          "name": "stdout",
          "text": [
            "(150000, 3)\n"
          ]
        },
        {
          "output_type": "execute_result",
          "data": {
            "text/plain": [
              "         id                                           document  label\n",
              "0   9976970                                아 더빙.. 진짜 짜증나네요 목소리      0\n",
              "1   3819312                  흠...포스터보고 초딩영화줄....오버연기조차 가볍지 않구나      1\n",
              "2  10265843                                  너무재밓었다그래서보는것을추천한다      0\n",
              "3   9045019                      교도소 이야기구먼 ..솔직히 재미는 없다..평점 조정      0\n",
              "4   6483659  사이몬페그의 익살스런 연기가 돋보였던 영화!스파이더맨에서 늙어보이기만 했던 커스틴 ...      1"
            ],
            "text/html": [
              "\n",
              "  <div id=\"df-1565f473-2d1e-47e6-8d86-5561a335fc00\">\n",
              "    <div class=\"colab-df-container\">\n",
              "      <div>\n",
              "<style scoped>\n",
              "    .dataframe tbody tr th:only-of-type {\n",
              "        vertical-align: middle;\n",
              "    }\n",
              "\n",
              "    .dataframe tbody tr th {\n",
              "        vertical-align: top;\n",
              "    }\n",
              "\n",
              "    .dataframe thead th {\n",
              "        text-align: right;\n",
              "    }\n",
              "</style>\n",
              "<table border=\"1\" class=\"dataframe\">\n",
              "  <thead>\n",
              "    <tr style=\"text-align: right;\">\n",
              "      <th></th>\n",
              "      <th>id</th>\n",
              "      <th>document</th>\n",
              "      <th>label</th>\n",
              "    </tr>\n",
              "  </thead>\n",
              "  <tbody>\n",
              "    <tr>\n",
              "      <th>0</th>\n",
              "      <td>9976970</td>\n",
              "      <td>아 더빙.. 진짜 짜증나네요 목소리</td>\n",
              "      <td>0</td>\n",
              "    </tr>\n",
              "    <tr>\n",
              "      <th>1</th>\n",
              "      <td>3819312</td>\n",
              "      <td>흠...포스터보고 초딩영화줄....오버연기조차 가볍지 않구나</td>\n",
              "      <td>1</td>\n",
              "    </tr>\n",
              "    <tr>\n",
              "      <th>2</th>\n",
              "      <td>10265843</td>\n",
              "      <td>너무재밓었다그래서보는것을추천한다</td>\n",
              "      <td>0</td>\n",
              "    </tr>\n",
              "    <tr>\n",
              "      <th>3</th>\n",
              "      <td>9045019</td>\n",
              "      <td>교도소 이야기구먼 ..솔직히 재미는 없다..평점 조정</td>\n",
              "      <td>0</td>\n",
              "    </tr>\n",
              "    <tr>\n",
              "      <th>4</th>\n",
              "      <td>6483659</td>\n",
              "      <td>사이몬페그의 익살스런 연기가 돋보였던 영화!스파이더맨에서 늙어보이기만 했던 커스틴 ...</td>\n",
              "      <td>1</td>\n",
              "    </tr>\n",
              "  </tbody>\n",
              "</table>\n",
              "</div>\n",
              "      <button class=\"colab-df-convert\" onclick=\"convertToInteractive('df-1565f473-2d1e-47e6-8d86-5561a335fc00')\"\n",
              "              title=\"Convert this dataframe to an interactive table.\"\n",
              "              style=\"display:none;\">\n",
              "        \n",
              "  <svg xmlns=\"http://www.w3.org/2000/svg\" height=\"24px\"viewBox=\"0 0 24 24\"\n",
              "       width=\"24px\">\n",
              "    <path d=\"M0 0h24v24H0V0z\" fill=\"none\"/>\n",
              "    <path d=\"M18.56 5.44l.94 2.06.94-2.06 2.06-.94-2.06-.94-.94-2.06-.94 2.06-2.06.94zm-11 1L8.5 8.5l.94-2.06 2.06-.94-2.06-.94L8.5 2.5l-.94 2.06-2.06.94zm10 10l.94 2.06.94-2.06 2.06-.94-2.06-.94-.94-2.06-.94 2.06-2.06.94z\"/><path d=\"M17.41 7.96l-1.37-1.37c-.4-.4-.92-.59-1.43-.59-.52 0-1.04.2-1.43.59L10.3 9.45l-7.72 7.72c-.78.78-.78 2.05 0 2.83L4 21.41c.39.39.9.59 1.41.59.51 0 1.02-.2 1.41-.59l7.78-7.78 2.81-2.81c.8-.78.8-2.07 0-2.86zM5.41 20L4 18.59l7.72-7.72 1.47 1.35L5.41 20z\"/>\n",
              "  </svg>\n",
              "      </button>\n",
              "      \n",
              "  <style>\n",
              "    .colab-df-container {\n",
              "      display:flex;\n",
              "      flex-wrap:wrap;\n",
              "      gap: 12px;\n",
              "    }\n",
              "\n",
              "    .colab-df-convert {\n",
              "      background-color: #E8F0FE;\n",
              "      border: none;\n",
              "      border-radius: 50%;\n",
              "      cursor: pointer;\n",
              "      display: none;\n",
              "      fill: #1967D2;\n",
              "      height: 32px;\n",
              "      padding: 0 0 0 0;\n",
              "      width: 32px;\n",
              "    }\n",
              "\n",
              "    .colab-df-convert:hover {\n",
              "      background-color: #E2EBFA;\n",
              "      box-shadow: 0px 1px 2px rgba(60, 64, 67, 0.3), 0px 1px 3px 1px rgba(60, 64, 67, 0.15);\n",
              "      fill: #174EA6;\n",
              "    }\n",
              "\n",
              "    [theme=dark] .colab-df-convert {\n",
              "      background-color: #3B4455;\n",
              "      fill: #D2E3FC;\n",
              "    }\n",
              "\n",
              "    [theme=dark] .colab-df-convert:hover {\n",
              "      background-color: #434B5C;\n",
              "      box-shadow: 0px 1px 3px 1px rgba(0, 0, 0, 0.15);\n",
              "      filter: drop-shadow(0px 1px 2px rgba(0, 0, 0, 0.3));\n",
              "      fill: #FFFFFF;\n",
              "    }\n",
              "  </style>\n",
              "\n",
              "      <script>\n",
              "        const buttonEl =\n",
              "          document.querySelector('#df-1565f473-2d1e-47e6-8d86-5561a335fc00 button.colab-df-convert');\n",
              "        buttonEl.style.display =\n",
              "          google.colab.kernel.accessAllowed ? 'block' : 'none';\n",
              "\n",
              "        async function convertToInteractive(key) {\n",
              "          const element = document.querySelector('#df-1565f473-2d1e-47e6-8d86-5561a335fc00');\n",
              "          const dataTable =\n",
              "            await google.colab.kernel.invokeFunction('convertToInteractive',\n",
              "                                                     [key], {});\n",
              "          if (!dataTable) return;\n",
              "\n",
              "          const docLinkHtml = 'Like what you see? Visit the ' +\n",
              "            '<a target=\"_blank\" href=https://colab.research.google.com/notebooks/data_table.ipynb>data table notebook</a>'\n",
              "            + ' to learn more about interactive tables.';\n",
              "          element.innerHTML = '';\n",
              "          dataTable['output_type'] = 'display_data';\n",
              "          await google.colab.output.renderOutput(dataTable, element);\n",
              "          const docLink = document.createElement('div');\n",
              "          docLink.innerHTML = docLinkHtml;\n",
              "          element.appendChild(docLink);\n",
              "        }\n",
              "      </script>\n",
              "    </div>\n",
              "  </div>\n",
              "  "
            ]
          },
          "metadata": {},
          "execution_count": 8
        }
      ]
    },
    {
      "cell_type": "markdown",
      "source": [
        "# 2. KoNLPy 한글 형태소 분석"
      ],
      "metadata": {
        "id": "bLYZMCBmTSRh"
      }
    },
    {
      "cell_type": "code",
      "source": [
        "# 코랩에 konlpy 패키지를 설치합니다.\n",
        "! pip install konlpy"
      ],
      "metadata": {
        "colab": {
          "base_uri": "https://localhost:8080/"
        },
        "id": "gGn7VwkcTWrB",
        "outputId": "e68ac600-3cc7-4c9e-fd2c-011fbd80a6d5"
      },
      "execution_count": 12,
      "outputs": [
        {
          "output_type": "stream",
          "name": "stdout",
          "text": [
            "Looking in indexes: https://pypi.org/simple, https://us-python.pkg.dev/colab-wheels/public/simple/\n",
            "Collecting konlpy\n",
            "  Downloading konlpy-0.6.0-py2.py3-none-any.whl (19.4 MB)\n",
            "\u001b[2K     \u001b[90m━━━━━━━━━━━━━━━━━━━━━━━━━━━━━━━━━━━━━━━━\u001b[0m \u001b[32m19.4/19.4 MB\u001b[0m \u001b[31m59.9 MB/s\u001b[0m eta \u001b[36m0:00:00\u001b[0m\n",
            "\u001b[?25hCollecting JPype1>=0.7.0\n",
            "  Downloading JPype1-1.4.1-cp38-cp38-manylinux_2_12_x86_64.manylinux2010_x86_64.whl (465 kB)\n",
            "\u001b[2K     \u001b[90m━━━━━━━━━━━━━━━━━━━━━━━━━━━━━━━━━━━━━━\u001b[0m \u001b[32m465.6/465.6 KB\u001b[0m \u001b[31m46.3 MB/s\u001b[0m eta \u001b[36m0:00:00\u001b[0m\n",
            "\u001b[?25hRequirement already satisfied: numpy>=1.6 in /usr/local/lib/python3.8/dist-packages (from konlpy) (1.21.6)\n",
            "Requirement already satisfied: lxml>=4.1.0 in /usr/local/lib/python3.8/dist-packages (from konlpy) (4.9.2)\n",
            "Requirement already satisfied: packaging in /usr/local/lib/python3.8/dist-packages (from JPype1>=0.7.0->konlpy) (23.0)\n",
            "Installing collected packages: JPype1, konlpy\n",
            "Successfully installed JPype1-1.4.1 konlpy-0.6.0\n"
          ]
        }
      ]
    },
    {
      "cell_type": "code",
      "source": [
        "# 긍정 리뷰를 하나 선택\n",
        "sample_text = data['document'].iloc[149978]\n",
        "print(type(sample_text))\n",
        "print(sample_text)\n",
        "# 트위터 형태소 분석기(Okt)를 활용\n",
        "from konlpy.utils import pprint\n",
        "from konlpy.tag import Okt\n",
        "okt = Okt()\n",
        "print(okt)"
      ],
      "metadata": {
        "colab": {
          "base_uri": "https://localhost:8080/"
        },
        "id": "WgcgTL7wTPA9",
        "outputId": "83cc1d87-fea5-45f3-9e32-d478f753029f"
      },
      "execution_count": 13,
      "outputs": [
        {
          "output_type": "stream",
          "name": "stdout",
          "text": [
            "<class 'str'>\n",
            "그리 만족스럽진못했어도 7점은 나와야되는것같아 10점줌. 주인공들연기도 훌륭했고 내용도 이정도면 괜찮았다. 해피엔딩으로끝났으면 그저 진부한영화가 되버릴뻔. 그래도 엔딩이 섭섭한건 없지않아있었음. 킬러들의도시도그렇고 콜린파렐을 너무 축축하게 끝내버리는듯\n",
            "<konlpy.tag._okt.Okt object at 0x7f55d350ce50>\n"
          ]
        }
      ]
    },
    {
      "cell_type": "markdown",
      "source": [
        "# 3. 텍스트 전처리"
      ],
      "metadata": {
        "id": "aPmJTz7tTrzp"
      }
    },
    {
      "cell_type": "code",
      "source": [
        "# 누락 데이터를 제거\n",
        "review_data = data['document'].dropna().values\n",
        "\n",
        "# 학습 속도를 고려하여, 1000개의 샘플을 선택하여 추출\n",
        "review_data = review_data[:1000]\n",
        "\n",
        "# 배열의 크기\n",
        "print(review_data.shape)\n",
        "\n",
        "# 첫 번째 데이터\n",
        "print(review_data[0])"
      ],
      "metadata": {
        "colab": {
          "base_uri": "https://localhost:8080/"
        },
        "id": "zNovmJ68TPpa",
        "outputId": "a3dacedb-ff9a-4423-f862-a23314785351"
      },
      "execution_count": 14,
      "outputs": [
        {
          "output_type": "stream",
          "name": "stdout",
          "text": [
            "(1000,)\n",
            "아 더빙.. 진짜 짜증나네요 목소리\n"
          ]
        }
      ]
    },
    {
      "cell_type": "code",
      "source": [
        "# 세 글자 이상의 명사를 사용 (두 글자 이하의 단어는 제거)\n",
        "cleaned_review_data = []\n",
        "\n",
        "for review in tqdm(review_data):\n",
        "    tokens = okt.nouns(review)\n",
        "    cleaned_tokens = []\n",
        "    for word in tokens:\n",
        "        if len(word) >= 3:\n",
        "            cleaned_tokens.append(word)\n",
        "        else:\n",
        "            pass\n",
        "    cleaned_review = \" \".join(cleaned_tokens)\n",
        "    cleaned_review_data.append(cleaned_review)\n",
        "\n",
        "print(len(cleaned_review_data))\n",
        "print(cleaned_review_data[0])"
      ],
      "metadata": {
        "colab": {
          "base_uri": "https://localhost:8080/"
        },
        "id": "PP1jHhgzTttf",
        "outputId": "b9f9d18d-5d62-4483-cb6d-c2dcd05358b9"
      },
      "execution_count": 15,
      "outputs": [
        {
          "output_type": "stream",
          "name": "stderr",
          "text": [
            "100%|██████████| 1000/1000 [00:13<00:00, 76.30it/s]"
          ]
        },
        {
          "output_type": "stream",
          "name": "stdout",
          "text": [
            "1000\n",
            "목소리\n"
          ]
        },
        {
          "output_type": "stream",
          "name": "stderr",
          "text": [
            "\n"
          ]
        }
      ]
    },
    {
      "cell_type": "markdown",
      "source": [
        "# 4. TF-IDF 벡터로 표현"
      ],
      "metadata": {
        "id": "1DqW-9VBUAsq"
      }
    },
    {
      "cell_type": "code",
      "source": [
        "# 사이킷런 패키지 활용 \n",
        "from sklearn.feature_extraction.text import TfidfVectorizer\n",
        "\n",
        "# TF-IDF 변환기 객체를 생성\n",
        "tfid = TfidfVectorizer()\n",
        "\n",
        "# TF-IDF 변환기에 데이터를 입력하여 변환\n",
        "review_tfid = tfid.fit_transform(cleaned_review_data)\n",
        "\n",
        "# 배열의 크기\n",
        "print(review_tfid.shape)\n",
        "\n",
        "# 첫 번째 데이터\n",
        "print(review_tfid[0])"
      ],
      "metadata": {
        "colab": {
          "base_uri": "https://localhost:8080/"
        },
        "id": "ci692Av8UCSp",
        "outputId": "7b16b65e-d98d-48df-f576-4cb0e1cbc360"
      },
      "execution_count": 17,
      "outputs": [
        {
          "output_type": "stream",
          "name": "stdout",
          "text": [
            "(1000, 597)\n",
            "  (0, 152)\t1.0\n"
          ]
        }
      ]
    },
    {
      "cell_type": "code",
      "source": [
        "# 단어 사전 확인 (딕셔너리 형태)\n",
        "vocab = tfid.vocabulary_\n",
        "\n",
        "# 단어 사전의 크기\n",
        "print(len(vocab))\n",
        "\n",
        "# 단어 사전 출력 (앞에서 5개의 단어만 출력)\n",
        "print({ k:v for i, (k, v) in enumerate(vocab.items()) if i < 5 })"
      ],
      "metadata": {
        "colab": {
          "base_uri": "https://localhost:8080/"
        },
        "id": "n6dYZnaLUE2p",
        "outputId": "3c530e6b-11df-494e-cfcd-fd2a3f3428cb"
      },
      "execution_count": 18,
      "outputs": [
        {
          "output_type": "stream",
          "name": "stdout",
          "text": [
            "597\n",
            "{'목소리': 152, '포스터': 546, '교도소': 31, '이야기': 400, '스파이더맨': 260}\n"
          ]
        }
      ]
    },
    {
      "cell_type": "code",
      "source": [
        "# 단어들의 사전 인덱스를 이용하여 원래 단어를 검색하는 매핑 딕셔너리\n",
        "index_to_word = { v:k for k, v in vocab.items() } \n",
        "\n",
        "# 앞에서 5개의 단어를 출력\n",
        "print({  k:v for i, (k, v) in enumerate(index_to_word.items()) if i < 5 })"
      ],
      "metadata": {
        "colab": {
          "base_uri": "https://localhost:8080/"
        },
        "id": "7g5XXon5Ue3-",
        "outputId": "c866616a-7cd2-473f-a484-cc405afe38b0"
      },
      "execution_count": 19,
      "outputs": [
        {
          "output_type": "stream",
          "name": "stdout",
          "text": [
            "{152: '목소리', 546: '포스터', 31: '교도소', 400: '이야기', 260: '스파이더맨'}\n"
          ]
        }
      ]
    },
    {
      "cell_type": "code",
      "source": [
        "# 첫 번째 리뷰를 구성하는 단어들의 사전 인덱스를 이용하여 원래 단어를 복원 (순서 복원 X)\n",
        "original_text = \" \".join([index_to_word[word_idx] for word_idx in review_tfid[0].indices])\n",
        "original_text"
      ],
      "metadata": {
        "colab": {
          "base_uri": "https://localhost:8080/",
          "height": 36
        },
        "id": "pgRkQLxCUg8q",
        "outputId": "d769c014-46d4-4abe-b531-55a8f3ab543e"
      },
      "execution_count": 20,
      "outputs": [
        {
          "output_type": "execute_result",
          "data": {
            "text/plain": [
              "'목소리'"
            ],
            "application/vnd.google.colaboratory.intrinsic+json": {
              "type": "string"
            }
          },
          "metadata": {},
          "execution_count": 20
        }
      ]
    },
    {
      "cell_type": "markdown",
      "source": [
        "# Topic Modeling"
      ],
      "metadata": {
        "id": "3M6gcTt_UmVU"
      }
    },
    {
      "cell_type": "markdown",
      "source": [
        "## 1. LDA"
      ],
      "metadata": {
        "id": "KKP5-op0UmQY"
      }
    },
    {
      "cell_type": "code",
      "source": [
        "# 사이킷런 패키지 활용\n",
        "from sklearn.decomposition import LatentDirichletAllocation\n",
        "\n",
        "# LDA 모델링 객체를 생성 (토픽 갯수를 2로 설정: 긍정/부정)\n",
        "lda = LatentDirichletAllocation(2)  \n",
        "\n",
        "# TF-IDF 벡터를 입력하여 모델 학습 \n",
        "lda.fit(review_tfid)"
      ],
      "metadata": {
        "colab": {
          "base_uri": "https://localhost:8080/"
        },
        "id": "mcqK_IucUjsD",
        "outputId": "7cc709cd-1deb-48a7-f9d1-bfd4da2063b0"
      },
      "execution_count": 23,
      "outputs": [
        {
          "output_type": "execute_result",
          "data": {
            "text/plain": [
              "LatentDirichletAllocation(n_components=2)"
            ]
          },
          "metadata": {},
          "execution_count": 23
        }
      ]
    },
    {
      "cell_type": "code",
      "source": [
        "# 토픽 모델링 결과를 담고 있는 배열의 형태 : (2개의 토픽, 2157개의 단어)\n",
        "print(lda.components_.shape)"
      ],
      "metadata": {
        "colab": {
          "base_uri": "https://localhost:8080/"
        },
        "id": "c6uUymAIUijx",
        "outputId": "c29810fc-7e7f-482b-d902-3f481bca165d"
      },
      "execution_count": 24,
      "outputs": [
        {
          "output_type": "stream",
          "name": "stdout",
          "text": [
            "(2, 597)\n"
          ]
        }
      ]
    },
    {
      "cell_type": "code",
      "source": [
        "# 2157개의 단어 중에서, 토픽 별로 가장 중요도가 높은 단어를 10개씩 출력\n",
        "\n",
        "for idx, topic in enumerate(lda.components_):\n",
        "    print(f\"토픽 유형 {idx+1}:\", [(index_to_word[i], topic[i].round(3)) for i in topic.argsort()[:-11:-1]])"
      ],
      "metadata": {
        "colab": {
          "base_uri": "https://localhost:8080/"
        },
        "id": "XmosXAJtUsjt",
        "outputId": "6272f47d-1681-49a8-9cdf-9532dab1d9d7"
      },
      "execution_count": 25,
      "outputs": [
        {
          "output_type": "stream",
          "name": "stdout",
          "text": [
            "토픽 유형 1: [('드라마', 19.52), ('스토리', 18.231), ('연기력', 5.427), ('스릴러', 5.214), ('비디오', 4.595), ('공포영화', 4.479), ('로맨스', 4.468), ('이영화', 4.303), ('화이팅', 3.613), ('최고다', 3.479)]\n",
            "토픽 유형 2: [('쓰레기', 15.707), ('주인공', 12.721), ('이야기', 10.977), ('마지막', 9.471), ('포스터', 6.358), ('캐스팅', 6.051), ('시청률', 5.058), ('시리즈', 4.941), ('긴장감', 4.456), ('어린이', 4.273)]\n"
          ]
        }
      ]
    },
    {
      "cell_type": "markdown",
      "source": [
        "## 2. pyLDAvis 시각화"
      ],
      "metadata": {
        "id": "JgSp0_gsUuxd"
      }
    },
    {
      "cell_type": "code",
      "source": [
        "# pyLDAvis 설치\n",
        "!pip install pyLDAvis"
      ],
      "metadata": {
        "colab": {
          "base_uri": "https://localhost:8080/"
        },
        "id": "n98YKC1pUyhS",
        "outputId": "66d67e6f-0ae8-46f4-c48f-773344302fa9"
      },
      "execution_count": 26,
      "outputs": [
        {
          "output_type": "stream",
          "name": "stdout",
          "text": [
            "Looking in indexes: https://pypi.org/simple, https://us-python.pkg.dev/colab-wheels/public/simple/\n",
            "Collecting pyLDAvis\n",
            "  Downloading pyLDAvis-3.3.1.tar.gz (1.7 MB)\n",
            "\u001b[2K     \u001b[90m━━━━━━━━━━━━━━━━━━━━━━━━━━━━━━━━━━━━━━━━\u001b[0m \u001b[32m1.7/1.7 MB\u001b[0m \u001b[31m40.0 MB/s\u001b[0m eta \u001b[36m0:00:00\u001b[0m\n",
            "\u001b[?25h  Installing build dependencies ... \u001b[?25l\u001b[?25hdone\n",
            "  Getting requirements to build wheel ... \u001b[?25l\u001b[?25hdone\n",
            "  Installing backend dependencies ... \u001b[?25l\u001b[?25hdone\n",
            "  Preparing metadata (pyproject.toml) ... \u001b[?25l\u001b[?25hdone\n",
            "Requirement already satisfied: pandas>=1.2.0 in /usr/local/lib/python3.8/dist-packages (from pyLDAvis) (1.3.5)\n",
            "Requirement already satisfied: scikit-learn in /usr/local/lib/python3.8/dist-packages (from pyLDAvis) (1.0.2)\n",
            "Collecting sklearn\n",
            "  Downloading sklearn-0.0.post1.tar.gz (3.6 kB)\n",
            "  Preparing metadata (setup.py) ... \u001b[?25l\u001b[?25hdone\n",
            "Requirement already satisfied: jinja2 in /usr/local/lib/python3.8/dist-packages (from pyLDAvis) (2.11.3)\n",
            "Requirement already satisfied: numexpr in /usr/local/lib/python3.8/dist-packages (from pyLDAvis) (2.8.4)\n",
            "Collecting funcy\n",
            "  Downloading funcy-1.18-py2.py3-none-any.whl (33 kB)\n",
            "Requirement already satisfied: scipy in /usr/local/lib/python3.8/dist-packages (from pyLDAvis) (1.7.3)\n",
            "Requirement already satisfied: setuptools in /usr/local/lib/python3.8/dist-packages (from pyLDAvis) (57.4.0)\n",
            "Requirement already satisfied: future in /usr/local/lib/python3.8/dist-packages (from pyLDAvis) (0.16.0)\n",
            "Requirement already satisfied: numpy>=1.20.0 in /usr/local/lib/python3.8/dist-packages (from pyLDAvis) (1.21.6)\n",
            "Requirement already satisfied: joblib in /usr/local/lib/python3.8/dist-packages (from pyLDAvis) (1.2.0)\n",
            "Requirement already satisfied: gensim in /usr/local/lib/python3.8/dist-packages (from pyLDAvis) (3.6.0)\n",
            "Requirement already satisfied: python-dateutil>=2.7.3 in /usr/local/lib/python3.8/dist-packages (from pandas>=1.2.0->pyLDAvis) (2.8.2)\n",
            "Requirement already satisfied: pytz>=2017.3 in /usr/local/lib/python3.8/dist-packages (from pandas>=1.2.0->pyLDAvis) (2022.7.1)\n",
            "Requirement already satisfied: smart-open>=1.2.1 in /usr/local/lib/python3.8/dist-packages (from gensim->pyLDAvis) (6.3.0)\n",
            "Requirement already satisfied: six>=1.5.0 in /usr/local/lib/python3.8/dist-packages (from gensim->pyLDAvis) (1.15.0)\n",
            "Requirement already satisfied: MarkupSafe>=0.23 in /usr/local/lib/python3.8/dist-packages (from jinja2->pyLDAvis) (2.0.1)\n",
            "Requirement already satisfied: threadpoolctl>=2.0.0 in /usr/local/lib/python3.8/dist-packages (from scikit-learn->pyLDAvis) (3.1.0)\n",
            "Building wheels for collected packages: pyLDAvis, sklearn\n",
            "  Building wheel for pyLDAvis (pyproject.toml) ... \u001b[?25l\u001b[?25hdone\n",
            "  Created wheel for pyLDAvis: filename=pyLDAvis-3.3.1-py2.py3-none-any.whl size=136898 sha256=68272476797fce87c81eee20925b8980cbe8177de2bef716af59d9b1ea3e2408\n",
            "  Stored in directory: /root/.cache/pip/wheels/90/61/ec/9dbe9efc3acf9c4e37ba70fbbcc3f3a0ebd121060aa593181a\n",
            "  Building wheel for sklearn (setup.py) ... \u001b[?25l\u001b[?25hdone\n",
            "  Created wheel for sklearn: filename=sklearn-0.0.post1-py3-none-any.whl size=2344 sha256=0f184c9c6846c62ce7d7f6fe6b20e8d8adec84223f6257fdee94c428b8897e54\n",
            "  Stored in directory: /root/.cache/pip/wheels/14/25/f7/1cc0956978ae479e75140219088deb7a36f60459df242b1a72\n",
            "Successfully built pyLDAvis sklearn\n",
            "Installing collected packages: sklearn, funcy, pyLDAvis\n",
            "Successfully installed funcy-1.18 pyLDAvis-3.3.1 sklearn-0.0.post1\n"
          ]
        }
      ]
    },
    {
      "cell_type": "code",
      "source": [
        "# LDA 토픽 모델링 결과를 시각화\n",
        "import pyLDAvis.sklearn\n",
        "pyLDAvis.enable_notebook()\n",
        "visualization = pyLDAvis.sklearn.prepare(lda, review_tfid, tfid)\n",
        "pyLDAvis.display(visualization)"
      ],
      "metadata": {
        "colab": {
          "base_uri": "https://localhost:8080/",
          "height": 951
        },
        "id": "BJ77CuwJUyb1",
        "outputId": "fb4d7d4e-bd49-4b72-b83f-198f2b700592"
      },
      "execution_count": 27,
      "outputs": [
        {
          "output_type": "stream",
          "name": "stderr",
          "text": [
            "/usr/local/lib/python3.8/dist-packages/past/types/oldstr.py:5: DeprecationWarning: Using or importing the ABCs from 'collections' instead of from 'collections.abc' is deprecated since Python 3.3, and in 3.10 it will stop working\n",
            "  from collections import Iterable\n",
            "/usr/local/lib/python3.8/dist-packages/past/builtins/misc.py:4: DeprecationWarning: Using or importing the ABCs from 'collections' instead of from 'collections.abc' is deprecated since Python 3.3, and in 3.10 it will stop working\n",
            "  from collections import Mapping\n"
          ]
        },
        {
          "output_type": "execute_result",
          "data": {
            "text/plain": [
              "<IPython.core.display.HTML object>"
            ],
            "text/html": [
              "\n",
              "<link rel=\"stylesheet\" type=\"text/css\" href=\"https://cdn.jsdelivr.net/gh/bmabey/pyLDAvis@3.3.1/pyLDAvis/js/ldavis.v1.0.0.css\">\n",
              "\n",
              "\n",
              "<div id=\"ldavis_el2791400036440538727578852335\"></div>\n",
              "<script type=\"text/javascript\">\n",
              "\n",
              "var ldavis_el2791400036440538727578852335_data = {\"mdsDat\": {\"x\": [0.07755008462788815, -0.07755008462788815], \"y\": [0.0, 0.0], \"topics\": [1, 2], \"cluster\": [1, 1], \"Freq\": [51.07585725489201, 48.92414274510799]}, \"tinfo\": {\"Term\": [\"\\ub4dc\\ub77c\\ub9c8\", \"\\uc2a4\\ud1a0\\ub9ac\", \"\\uc4f0\\ub808\\uae30\", \"\\uc774\\uc57c\\uae30\", \"\\uc8fc\\uc778\\uacf5\", \"\\ub9c8\\uc9c0\\ub9c9\", \"\\ud3ec\\uc2a4\\ud130\", \"\\uce90\\uc2a4\\ud305\", \"\\uc5f0\\uae30\\ub825\", \"\\uc2a4\\ub9b4\\ub7ec\", \"\\ube44\\ub514\\uc624\", \"\\uc2dc\\uccad\\ub960\", \"\\uc2dc\\ub9ac\\uc988\", \"\\ub85c\\ub9e8\\uc2a4\", \"\\uacf5\\ud3ec\\uc601\\ud654\", \"\\uc774\\uc601\\ud654\", \"\\uae34\\uc7a5\\uac10\", \"\\uc5b4\\ub9b0\\uc774\", \"\\ucf54\\ubbf8\\ub514\", \"\\ud654\\uc774\\ud305\", \"\\uc2dc\\ub098\\ub9ac\\uc624\", \"\\ucd5c\\uace0\\ub2e4\", \"\\uadf8\\ub300\\ub85c\", \"\\uc5ec\\ubc30\\uc6b0\", \"\\uc5f0\\uc608\\uacc4\", \"\\uc6b0\\ub9ac\\ub098\\ub77c\", \"\\ud55c\\uad6d\\uc601\", \"\\ud55c\\ub9c8\\ub514\", \"\\uc601\\ud654\\uad00\", \"\\uc544\\uc800\\uc528\", \"\\uc4f0\\ub808\\uae30\", \"\\uc774\\uc57c\\uae30\", \"\\ub9c8\\uc9c0\\ub9c9\", \"\\ud3ec\\uc2a4\\ud130\", \"\\uce90\\uc2a4\\ud305\", \"\\uc2dc\\ub9ac\\uc988\", \"\\uc2dc\\uccad\\ub960\", \"\\uc5b4\\ub9b0\\uc774\", \"\\ucf54\\ubbf8\\ub514\", \"\\uc8fc\\uc778\\uacf5\", \"\\uc2dc\\ub098\\ub9ac\\uc624\", \"\\uae34\\uc7a5\\uac10\", \"\\uadf8\\ub300\\ub85c\", \"\\uc6b0\\ub9ac\\ub098\\ub77c\", \"\\ud55c\\uad6d\\uc601\", \"\\ud55c\\ub9c8\\ub514\", \"\\ub124\\uc774\\ubc84\", \"\\uc9c0\\ub8e8\\ud568\", \"\\ub204\\uad70\\uac00\", \"\\uc11c\\uc2a4\\ud39c\\uc2a4\", \"\\uce90\\ub9ad\\ud130\", \"\\ubab0\\uc785\\ub3c4\", \"\\uadf9\\uc7a5\\ud310\", \"\\uac00\\uc2b4\\uc18d\", \"\\uc544\\ubb34\\ub098\", \"\\uc54c\\ubc14\\uc0dd\", \"\\ubd23\\ub294\\ub370\", \"\\uc561\\uc158\\uc601\\ud654\", \"\\uc678\\uacc4\\uc778\", \"\\uc2f8\\uad6c\\ub824\", \"\\ub808\\uc804\\ub4dc\", \"\\ucd08\\ub4f1\\ud559\\uad50\", \"\\ub4dc\\ub77c\\ub9c8\", \"\\uc2a4\\ud1a0\\ub9ac\", \"\\uc5f0\\uae30\\ub825\", \"\\uc2a4\\ub9b4\\ub7ec\", \"\\ub85c\\ub9e8\\uc2a4\", \"\\uacf5\\ud3ec\\uc601\\ud654\", \"\\ube44\\ub514\\uc624\", \"\\uc774\\uc601\\ud654\", \"\\ud654\\uc774\\ud305\", \"\\ucd5c\\uace0\\ub2e4\", \"\\uc5f0\\uc608\\uacc4\", \"\\uc5ec\\ubc30\\uc6b0\", \"\\uc601\\ud654\\uad00\", \"\\uc544\\uc800\\uc528\", \"\\uc5bc\\ub9c8\\ub098\", \"\\ubd84\\uc704\\uae30\", \"\\uc138\\ub974\\uac8c\\uc774\", \"\\ucf00\\uc774\\ube14\", \"\\uc2f8\\uc774\\ucf54\", \"\\ud5d0\\ub9ac\\uc6b0\\ub4dc\", \"\\uad70\\ub354\\ub354\\uae30\", \"\\uc601\\ud654\\uc0ac\", \"\\uac08\\uc218\\ub85d\", \"\\uc9dc\\uc784\\uc0c8\", \"\\uadf8\\ub798\\ud53d\", \"\\ud558\\ub098\\ub2d8\", \"\\ucd5c\\ub8e8\\uc131\", \"\\uc5f0\\uc608\\uc778\", \"\\ucee4\\uc2a4\\ud2f4\", \"\\ud3c9\\ub860\\uac00\", \"\\ud0ac\\ub9c1\\ud0c0\\uc784\", \"\\uc81c\\ub300\\ub85c\", \"\\uc5d0\\ud53c\\uc18c\\ub4dc\", \"\\ud55c\\uc11d\\uaddc\"], \"Freq\": [10.0, 9.0, 8.0, 6.0, 7.0, 5.0, 3.0, 3.0, 3.0, 3.0, 2.0, 2.0, 2.0, 2.0, 2.0, 2.0, 2.0, 2.0, 2.0, 2.0, 2.0, 2.0, 2.0, 2.0, 1.0, 2.0, 2.0, 1.0, 1.0, 1.0, 8.30689974274832, 5.805439680195458, 5.009063920834987, 3.3626032192230286, 3.200367965244491, 2.6134057321322843, 2.6749225536310055, 2.259848260071983, 2.187143480245565, 6.727985135454313, 2.1033215965865937, 2.356899085830096, 2.006957992801332, 1.7925678318281437, 1.7335679973911868, 1.685607293321755, 1.6767626300412146, 1.620049978828571, 1.5910637945272021, 1.5957891847667784, 1.5354947435951074, 1.6482182435654158, 1.394410710574422, 1.3098071665999955, 1.3098069292003929, 1.3098067499273804, 1.30980671202258, 1.2553213390767868, 1.2495291460866491, 1.2216826700425034, 1.288343254424659, 1.3463008797999285, 10.32523235415188, 9.643175120090493, 2.8707966618070624, 2.7579494387145678, 2.36324688645788, 2.3692866083874193, 2.430513807333269, 2.2760024219358996, 1.9110639942223806, 1.8402883966453167, 1.6861441241071782, 1.7253281167913255, 1.5046498906862154, 1.50463200867145, 1.3898614600933699, 1.34743372133094, 1.311148079410163, 1.3111479946124232, 1.1771992946368963, 1.1575572829204355, 1.1575508135154524, 1.1464268573058467, 1.7377444220514033, 1.1136238090048685, 1.0892416267544978, 1.0929229810870678, 1.0929293425264142, 1.2582849552082982, 1.0773011177364258, 1.0590881508747472, 1.0686441965619742, 1.1266190646070369, 1.1240275333878618, 1.09045597605935], \"Total\": [10.0, 9.0, 8.0, 6.0, 7.0, 5.0, 3.0, 3.0, 3.0, 3.0, 2.0, 2.0, 2.0, 2.0, 2.0, 2.0, 2.0, 2.0, 2.0, 2.0, 2.0, 2.0, 2.0, 2.0, 1.0, 2.0, 2.0, 1.0, 1.0, 1.0, 8.597847073814863, 6.102542728618038, 5.366010970388463, 3.6527568590666686, 3.494966724226252, 2.8869660871644145, 2.969420391433542, 2.535661761920288, 2.461737728997983, 7.589764333716036, 2.376743772975271, 2.6674893581084524, 2.2823227093046383, 2.0668146093057014, 2.0091244737044427, 1.9597683721349455, 1.9524997842898688, 1.8955097824782232, 1.8657595501347863, 1.8715151444770826, 1.8149802152113388, 1.9742879143256202, 1.6795164701845469, 1.5866791879713276, 1.5866791880025617, 1.5866791880261477, 1.5866791880311348, 1.5285691412739015, 1.5251475729256034, 1.4940850292019667, 1.6742335476859236, 1.9972500262170838, 10.606607845033214, 9.926829086659398, 3.1529272420949894, 3.0321656406814568, 2.6374285793714667, 2.6472001146028417, 2.7193684261592272, 2.565885811875231, 2.1852309218108186, 2.1157657752401593, 1.960839862171108, 2.015811115756702, 1.7784359508044958, 1.7784359484521408, 1.663379362090852, 1.6209525011995813, 1.5868152455986997, 1.5868152455875446, 1.4513791648300245, 1.4318894053386813, 1.4318894044876396, 1.4209251763085828, 2.1641894119052676, 1.387543888744501, 1.3614546535447416, 1.3669118435716927, 1.3675530578299384, 1.5762464499363216, 1.3514888361839459, 1.3329702357684647, 1.3466121864847398, 1.451372511068608, 1.5072153435240943, 1.5181576805952488], \"Category\": [\"Default\", \"Default\", \"Default\", \"Default\", \"Default\", \"Default\", \"Default\", \"Default\", \"Default\", \"Default\", \"Default\", \"Default\", \"Default\", \"Default\", \"Default\", \"Default\", \"Default\", \"Default\", \"Default\", \"Default\", \"Default\", \"Default\", \"Default\", \"Default\", \"Default\", \"Default\", \"Default\", \"Default\", \"Default\", \"Default\", \"Topic1\", \"Topic1\", \"Topic1\", \"Topic1\", \"Topic1\", \"Topic1\", \"Topic1\", \"Topic1\", \"Topic1\", \"Topic1\", \"Topic1\", \"Topic1\", \"Topic1\", \"Topic1\", \"Topic1\", \"Topic1\", \"Topic1\", \"Topic1\", \"Topic1\", \"Topic1\", \"Topic1\", \"Topic1\", \"Topic1\", \"Topic1\", \"Topic1\", \"Topic1\", \"Topic1\", \"Topic1\", \"Topic1\", \"Topic1\", \"Topic1\", \"Topic1\", \"Topic2\", \"Topic2\", \"Topic2\", \"Topic2\", \"Topic2\", \"Topic2\", \"Topic2\", \"Topic2\", \"Topic2\", \"Topic2\", \"Topic2\", \"Topic2\", \"Topic2\", \"Topic2\", \"Topic2\", \"Topic2\", \"Topic2\", \"Topic2\", \"Topic2\", \"Topic2\", \"Topic2\", \"Topic2\", \"Topic2\", \"Topic2\", \"Topic2\", \"Topic2\", \"Topic2\", \"Topic2\", \"Topic2\", \"Topic2\", \"Topic2\", \"Topic2\", \"Topic2\", \"Topic2\"], \"logprob\": [30.0, 29.0, 28.0, 27.0, 26.0, 25.0, 24.0, 23.0, 22.0, 21.0, 20.0, 19.0, 18.0, 17.0, 16.0, 15.0, 14.0, 13.0, 12.0, 11.0, 10.0, 9.0, 8.0, 7.0, 6.0, 5.0, 4.0, 3.0, 2.0, 1.0, -3.7188, -4.0771, -4.2246, -4.6231, -4.6726, -4.8752, -4.8519, -5.0206, -5.0533, -3.9296, -5.0923, -4.9785, -5.1392, -5.2522, -5.2857, -5.3137, -5.319, -5.3534, -5.3714, -5.3685, -5.407, -5.3362, -5.5034, -5.566, -5.566, -5.566, -5.566, -5.6085, -5.6131, -5.6356, -5.5825, -5.5385, -3.4582, -3.5266, -4.7382, -4.7783, -4.9328, -4.9302, -4.9047, -4.9704, -5.1451, -5.1829, -5.2704, -5.2474, -5.3842, -5.3843, -5.4636, -5.4946, -5.5219, -5.5219, -5.6297, -5.6465, -5.6465, -5.6562, -5.2402, -5.6852, -5.7073, -5.704, -5.7039, -5.5631, -5.7183, -5.7354, -5.7264, -5.6736, -5.6759, -5.7062], \"loglift\": [30.0, 29.0, 28.0, 27.0, 26.0, 25.0, 24.0, 23.0, 22.0, 21.0, 20.0, 19.0, 18.0, 17.0, 16.0, 15.0, 14.0, 13.0, 12.0, 11.0, 10.0, 9.0, 8.0, 7.0, 6.0, 5.0, 4.0, 3.0, 2.0, 1.0, 0.6374, 0.6219, 0.603, 0.5891, 0.5838, 0.5723, 0.5674, 0.5567, 0.5536, 0.5513, 0.5496, 0.5481, 0.5433, 0.5295, 0.5243, 0.5212, 0.5196, 0.5148, 0.5126, 0.5125, 0.5046, 0.4913, 0.4858, 0.4801, 0.4801, 0.4801, 0.4801, 0.4749, 0.4725, 0.4706, 0.4099, 0.2774, 0.688, 0.6859, 0.6212, 0.6201, 0.6051, 0.604, 0.6026, 0.595, 0.5808, 0.5754, 0.564, 0.5593, 0.5477, 0.5477, 0.5353, 0.5301, 0.5241, 0.5241, 0.5055, 0.5022, 0.5022, 0.5002, 0.4954, 0.495, 0.4918, 0.4912, 0.4907, 0.4896, 0.4882, 0.4849, 0.4837, 0.4616, 0.4216, 0.384]}, \"token.table\": {\"Topic\": [1, 2, 2, 2, 1, 2, 1, 1, 1, 1, 2, 1, 2, 1, 1, 1, 2, 2, 1, 2, 2, 2, 1, 1, 1, 1, 2, 1, 1, 2, 1, 1, 1, 2, 2, 2, 2, 2, 2, 2, 2, 1, 1, 1, 2, 2, 1, 2, 1, 2, 1, 2, 2, 2, 1, 1, 2, 2, 1, 2, 2, 1, 2, 1, 1, 2, 2, 2], \"Freq\": [0.6302471271956147, 0.9241335296245066, 0.7555152287004412, 0.6983779591258455, 0.8763002671998762, 0.7345084886935875, 0.5954094632308781, 0.7497686893934689, 1.024327898057826, 1.0719494909488825, 0.9428084969392668, 0.5972882345967626, 0.7583143731902025, 0.9317908643108931, 1.0130234731661023, 0.6302471271718586, 0.6169212233300808, 0.7354648898475127, 1.0686528537597366, 0.6301930881831826, 0.9893918589901877, 1.0073710258030872, 0.8414874260915163, 1.0391531834537786, 1.0102981742344994, 0.6693059500998604, 0.6889998314927671, 0.9304654911069965, 0.6302471271832082, 1.124583655509605, 0.6302471271738396, 0.6542065864070795, 0.7887487321989568, 0.6011857684364976, 0.6634751990129366, 0.9921564497620271, 0.9514967424388215, 1.0199711045171902, 0.6344185581134212, 1.124583654022107, 0.7037668250751224, 0.6556742558897151, 0.9676726644930451, 0.9831967209115701, 0.779457913030953, 0.6890029901859763, 0.92229477651946, 0.13175639664563715, 1.0551251270173685, 0.7206979239444711, 0.500688440041762, 0.500688440041762, 0.9452842197397683, 0.7312330547429149, 1.1019403865882458, 0.8583772712926666, 0.7399247209644682, 0.6301930881876128, 0.8124342314947063, 0.7426042999138804, 0.7502042980153225, 0.8212974790680546, 0.7315760739822366, 0.9954584826257087, 1.0205287667854475, 0.6586931072982575, 0.6983779587107655, 0.9152350811248247], \"Term\": [\"\\uac00\\uc2b4\\uc18d\", \"\\uac08\\uc218\\ub85d\", \"\\uacf5\\ud3ec\\uc601\\ud654\", \"\\uad70\\ub354\\ub354\\uae30\", \"\\uadf8\\ub300\\ub85c\", \"\\uadf8\\ub798\\ud53d\", \"\\uadf9\\uc7a5\\ud310\", \"\\uae34\\uc7a5\\uac10\", \"\\ub124\\uc774\\ubc84\", \"\\ub204\\uad70\\uac00\", \"\\ub4dc\\ub77c\\ub9c8\", \"\\ub808\\uc804\\ub4dc\", \"\\ub85c\\ub9e8\\uc2a4\", \"\\ub9c8\\uc9c0\\ub9c9\", \"\\ubab0\\uc785\\ub3c4\", \"\\ubd23\\ub294\\ub370\", \"\\ubd84\\uc704\\uae30\", \"\\ube44\\ub514\\uc624\", \"\\uc11c\\uc2a4\\ud39c\\uc2a4\", \"\\uc138\\ub974\\uac8c\\uc774\", \"\\uc2a4\\ub9b4\\ub7ec\", \"\\uc2a4\\ud1a0\\ub9ac\", \"\\uc2dc\\ub098\\ub9ac\\uc624\", \"\\uc2dc\\ub9ac\\uc988\", \"\\uc2dc\\uccad\\ub960\", \"\\uc2f8\\uad6c\\ub824\", \"\\uc2f8\\uc774\\ucf54\", \"\\uc4f0\\ub808\\uae30\", \"\\uc544\\ubb34\\ub098\", \"\\uc544\\uc800\\uc528\", \"\\uc54c\\ubc14\\uc0dd\", \"\\uc561\\uc158\\uc601\\ud654\", \"\\uc5b4\\ub9b0\\uc774\", \"\\uc5bc\\ub9c8\\ub098\", \"\\uc5d0\\ud53c\\uc18c\\ub4dc\", \"\\uc5ec\\ubc30\\uc6b0\", \"\\uc5f0\\uae30\\ub825\", \"\\uc5f0\\uc608\\uacc4\", \"\\uc5f0\\uc608\\uc778\", \"\\uc601\\ud654\\uad00\", \"\\uc601\\ud654\\uc0ac\", \"\\uc678\\uacc4\\uc778\", \"\\uc6b0\\ub9ac\\ub098\\ub77c\", \"\\uc774\\uc57c\\uae30\", \"\\uc774\\uc601\\ud654\", \"\\uc81c\\ub300\\ub85c\", \"\\uc8fc\\uc778\\uacf5\", \"\\uc8fc\\uc778\\uacf5\", \"\\uc9c0\\ub8e8\\ud568\", \"\\uc9dc\\uc784\\uc0c8\", \"\\ucd08\\ub4f1\\ud559\\uad50\", \"\\ucd08\\ub4f1\\ud559\\uad50\", \"\\ucd5c\\uace0\\ub2e4\", \"\\ucd5c\\ub8e8\\uc131\", \"\\uce90\\ub9ad\\ud130\", \"\\uce90\\uc2a4\\ud305\", \"\\ucee4\\uc2a4\\ud2f4\", \"\\ucf00\\uc774\\ube14\", \"\\ucf54\\ubbf8\\ub514\", \"\\ud0ac\\ub9c1\\ud0c0\\uc784\", \"\\ud3c9\\ub860\\uac00\", \"\\ud3ec\\uc2a4\\ud130\", \"\\ud558\\ub098\\ub2d8\", \"\\ud55c\\uad6d\\uc601\", \"\\ud55c\\ub9c8\\ub514\", \"\\ud55c\\uc11d\\uaddc\", \"\\ud5d0\\ub9ac\\uc6b0\\ub4dc\", \"\\ud654\\uc774\\ud305\"]}, \"R\": 30, \"lambda.step\": 0.01, \"plot.opts\": {\"xlab\": \"PC1\", \"ylab\": \"PC2\"}, \"topic.order\": [2, 1]};\n",
              "\n",
              "function LDAvis_load_lib(url, callback){\n",
              "  var s = document.createElement('script');\n",
              "  s.src = url;\n",
              "  s.async = true;\n",
              "  s.onreadystatechange = s.onload = callback;\n",
              "  s.onerror = function(){console.warn(\"failed to load library \" + url);};\n",
              "  document.getElementsByTagName(\"head\")[0].appendChild(s);\n",
              "}\n",
              "\n",
              "if(typeof(LDAvis) !== \"undefined\"){\n",
              "   // already loaded: just create the visualization\n",
              "   !function(LDAvis){\n",
              "       new LDAvis(\"#\" + \"ldavis_el2791400036440538727578852335\", ldavis_el2791400036440538727578852335_data);\n",
              "   }(LDAvis);\n",
              "}else if(typeof define === \"function\" && define.amd){\n",
              "   // require.js is available: use it to load d3/LDAvis\n",
              "   require.config({paths: {d3: \"https://d3js.org/d3.v5\"}});\n",
              "   require([\"d3\"], function(d3){\n",
              "      window.d3 = d3;\n",
              "      LDAvis_load_lib(\"https://cdn.jsdelivr.net/gh/bmabey/pyLDAvis@3.3.1/pyLDAvis/js/ldavis.v3.0.0.js\", function(){\n",
              "        new LDAvis(\"#\" + \"ldavis_el2791400036440538727578852335\", ldavis_el2791400036440538727578852335_data);\n",
              "      });\n",
              "    });\n",
              "}else{\n",
              "    // require.js not available: dynamically load d3 & LDAvis\n",
              "    LDAvis_load_lib(\"https://d3js.org/d3.v5.js\", function(){\n",
              "         LDAvis_load_lib(\"https://cdn.jsdelivr.net/gh/bmabey/pyLDAvis@3.3.1/pyLDAvis/js/ldavis.v3.0.0.js\", function(){\n",
              "                 new LDAvis(\"#\" + \"ldavis_el2791400036440538727578852335\", ldavis_el2791400036440538727578852335_data);\n",
              "            })\n",
              "         });\n",
              "}\n",
              "</script>"
            ]
          },
          "metadata": {},
          "execution_count": 27
        }
      ]
    },
    {
      "cell_type": "markdown",
      "source": [
        "# Sentimental Analysis (감성 분석)"
      ],
      "metadata": {
        "id": "EI70ieMtUxqX"
      }
    },
    {
      "cell_type": "markdown",
      "source": [
        "## 1. 머신러닝 알고리즘 활용해 긍정/부정 분류"
      ],
      "metadata": {
        "id": "friDnuAxVUC8"
      }
    },
    {
      "cell_type": "code",
      "source": [
        "labels = data['label'].iloc[:1000].values\n",
        "print(labels.shape)\n",
        "print(labels[:5])"
      ],
      "metadata": {
        "colab": {
          "base_uri": "https://localhost:8080/"
        },
        "id": "zPOuAiv0UtwG",
        "outputId": "40391d0b-cb93-4852-eeea-45af9ebf014d"
      },
      "execution_count": 32,
      "outputs": [
        {
          "output_type": "stream",
          "name": "stdout",
          "text": [
            "(1000,)\n",
            "[0 1 0 0 1]\n"
          ]
        }
      ]
    },
    {
      "cell_type": "code",
      "source": [
        "# 사이킷런 패키지 활용\n",
        "from sklearn.linear_model import LogisticRegression\n",
        "\n",
        "# 로지스틱 분류 모델링 객체를 생성 \n",
        "lr = LogisticRegression()\n",
        "\n",
        "# TF-IDF 벡터를 입력하여 모델 학습 \n",
        "lr.fit(review_tfid, labels)"
      ],
      "metadata": {
        "colab": {
          "base_uri": "https://localhost:8080/"
        },
        "id": "oQVFEWpcVa2F",
        "outputId": "e04a2504-a632-4c09-ac04-4469dff5ad1f"
      },
      "execution_count": 35,
      "outputs": [
        {
          "output_type": "execute_result",
          "data": {
            "text/plain": [
              "LogisticRegression()"
            ]
          },
          "metadata": {},
          "execution_count": 35
        }
      ]
    },
    {
      "cell_type": "code",
      "source": [
        "# 첫 번째 샘플을 이용하여 모델 예측\n",
        "pred = lr.predict(review_tfid[0])\n",
        "print(pred)"
      ],
      "metadata": {
        "colab": {
          "base_uri": "https://localhost:8080/"
        },
        "id": "ubFNguUSVc1N",
        "outputId": "d0452b12-a388-47c2-f6a2-708e33fde359"
      },
      "execution_count": 36,
      "outputs": [
        {
          "output_type": "stream",
          "name": "stdout",
          "text": [
            "[0]\n"
          ]
        }
      ]
    },
    {
      "cell_type": "markdown",
      "source": [
        "## 2. Part 1에서 수집한 리뷰를 긍정, 부정으로 감성 분류 예측"
      ],
      "metadata": {
        "id": "xPULh9qXV878"
      }
    },
    {
      "cell_type": "code",
      "source": [
        "# 판다스 데이터프레임로 읽어오기\n",
        "test = pd.read_csv('./data/naver_review_Avatar2.csv')\n",
        "\n",
        "test.head()"
      ],
      "metadata": {
        "colab": {
          "base_uri": "https://localhost:8080/",
          "height": 441
        },
        "id": "2dKuUua2V6db",
        "outputId": "48a2e12b-f31f-44ce-dac4-53bd88ebdd94"
      },
      "execution_count": 39,
      "outputs": [
        {
          "output_type": "execute_result",
          "data": {
            "text/plain": [
              "   Unnamed: 0 review_uid                                         review_url  \\\n",
              "0           0   insu****  https://movie.naver.com/movie/bi/mi/reviewread...   \n",
              "1           1   xnzm****  https://movie.naver.com/movie/bi/mi/reviewread...   \n",
              "2           2   alwa****  https://movie.naver.com/movie/bi/mi/reviewread...   \n",
              "3           3   soqu****  https://movie.naver.com/movie/bi/mi/reviewread...   \n",
              "4           4   doub****  https://movie.naver.com/movie/bi/mi/reviewread...   \n",
              "\n",
              "                               review_title  \\\n",
              "0  <아바타 2> 주인공 \"네이티리\" 캐릭터 컨셉 아트 이미지 대공개...    \n",
              "1                      2014년에 이글을 읽는사람들에게..   \n",
              "2          [필독, 스압] 위대한 지휘관, 쿼리치대령을 추모하며...   \n",
              "3                          아바타2 3,4 제작소식 모음   \n",
              "4                                  아바타2 스토리   \n",
              "\n",
              "                                      review_content  \n",
              "0  아바타 2\\n\\n감독\\n제임스 카메론\\n출연\\n시고니 위버, 스티븐 랭, 조 샐다나...  \n",
              "1  2014년에 아바타2가 개봉하다니ㅋ\\n \\n아바타1,, 정말 재밌게 봤었는데\\n \\...  \n",
              "2  영화 아바타는.끝까지 우리 인류의 번영과 이익을 위해 사투를 벌이다 죽어간 위대한 ...  \n",
              "3  <<  아바타 속편 제작소식 모음  >>\\n \\n\\n \\n \\n안녕하세요. 오늘은 ...  \n",
              "4  전작의 경우 cg는 혁명적이었지만제임스 카메론이 14년동안 구상한거 치곤 스토리가 ...  "
            ],
            "text/html": [
              "\n",
              "  <div id=\"df-16af879a-be79-430e-b84f-4d191e7544da\">\n",
              "    <div class=\"colab-df-container\">\n",
              "      <div>\n",
              "<style scoped>\n",
              "    .dataframe tbody tr th:only-of-type {\n",
              "        vertical-align: middle;\n",
              "    }\n",
              "\n",
              "    .dataframe tbody tr th {\n",
              "        vertical-align: top;\n",
              "    }\n",
              "\n",
              "    .dataframe thead th {\n",
              "        text-align: right;\n",
              "    }\n",
              "</style>\n",
              "<table border=\"1\" class=\"dataframe\">\n",
              "  <thead>\n",
              "    <tr style=\"text-align: right;\">\n",
              "      <th></th>\n",
              "      <th>Unnamed: 0</th>\n",
              "      <th>review_uid</th>\n",
              "      <th>review_url</th>\n",
              "      <th>review_title</th>\n",
              "      <th>review_content</th>\n",
              "    </tr>\n",
              "  </thead>\n",
              "  <tbody>\n",
              "    <tr>\n",
              "      <th>0</th>\n",
              "      <td>0</td>\n",
              "      <td>insu****</td>\n",
              "      <td>https://movie.naver.com/movie/bi/mi/reviewread...</td>\n",
              "      <td>&lt;아바타 2&gt; 주인공 \"네이티리\" 캐릭터 컨셉 아트 이미지 대공개...</td>\n",
              "      <td>아바타 2\\n\\n감독\\n제임스 카메론\\n출연\\n시고니 위버, 스티븐 랭, 조 샐다나...</td>\n",
              "    </tr>\n",
              "    <tr>\n",
              "      <th>1</th>\n",
              "      <td>1</td>\n",
              "      <td>xnzm****</td>\n",
              "      <td>https://movie.naver.com/movie/bi/mi/reviewread...</td>\n",
              "      <td>2014년에 이글을 읽는사람들에게..</td>\n",
              "      <td>2014년에 아바타2가 개봉하다니ㅋ\\n \\n아바타1,, 정말 재밌게 봤었는데\\n \\...</td>\n",
              "    </tr>\n",
              "    <tr>\n",
              "      <th>2</th>\n",
              "      <td>2</td>\n",
              "      <td>alwa****</td>\n",
              "      <td>https://movie.naver.com/movie/bi/mi/reviewread...</td>\n",
              "      <td>[필독, 스압] 위대한 지휘관, 쿼리치대령을 추모하며...</td>\n",
              "      <td>영화 아바타는.끝까지 우리 인류의 번영과 이익을 위해 사투를 벌이다 죽어간 위대한 ...</td>\n",
              "    </tr>\n",
              "    <tr>\n",
              "      <th>3</th>\n",
              "      <td>3</td>\n",
              "      <td>soqu****</td>\n",
              "      <td>https://movie.naver.com/movie/bi/mi/reviewread...</td>\n",
              "      <td>아바타2 3,4 제작소식 모음</td>\n",
              "      <td>&lt;&lt;  아바타 속편 제작소식 모음  &gt;&gt;\\n \\n\\n \\n \\n안녕하세요. 오늘은 ...</td>\n",
              "    </tr>\n",
              "    <tr>\n",
              "      <th>4</th>\n",
              "      <td>4</td>\n",
              "      <td>doub****</td>\n",
              "      <td>https://movie.naver.com/movie/bi/mi/reviewread...</td>\n",
              "      <td>아바타2 스토리</td>\n",
              "      <td>전작의 경우 cg는 혁명적이었지만제임스 카메론이 14년동안 구상한거 치곤 스토리가 ...</td>\n",
              "    </tr>\n",
              "  </tbody>\n",
              "</table>\n",
              "</div>\n",
              "      <button class=\"colab-df-convert\" onclick=\"convertToInteractive('df-16af879a-be79-430e-b84f-4d191e7544da')\"\n",
              "              title=\"Convert this dataframe to an interactive table.\"\n",
              "              style=\"display:none;\">\n",
              "        \n",
              "  <svg xmlns=\"http://www.w3.org/2000/svg\" height=\"24px\"viewBox=\"0 0 24 24\"\n",
              "       width=\"24px\">\n",
              "    <path d=\"M0 0h24v24H0V0z\" fill=\"none\"/>\n",
              "    <path d=\"M18.56 5.44l.94 2.06.94-2.06 2.06-.94-2.06-.94-.94-2.06-.94 2.06-2.06.94zm-11 1L8.5 8.5l.94-2.06 2.06-.94-2.06-.94L8.5 2.5l-.94 2.06-2.06.94zm10 10l.94 2.06.94-2.06 2.06-.94-2.06-.94-.94-2.06-.94 2.06-2.06.94z\"/><path d=\"M17.41 7.96l-1.37-1.37c-.4-.4-.92-.59-1.43-.59-.52 0-1.04.2-1.43.59L10.3 9.45l-7.72 7.72c-.78.78-.78 2.05 0 2.83L4 21.41c.39.39.9.59 1.41.59.51 0 1.02-.2 1.41-.59l7.78-7.78 2.81-2.81c.8-.78.8-2.07 0-2.86zM5.41 20L4 18.59l7.72-7.72 1.47 1.35L5.41 20z\"/>\n",
              "  </svg>\n",
              "      </button>\n",
              "      \n",
              "  <style>\n",
              "    .colab-df-container {\n",
              "      display:flex;\n",
              "      flex-wrap:wrap;\n",
              "      gap: 12px;\n",
              "    }\n",
              "\n",
              "    .colab-df-convert {\n",
              "      background-color: #E8F0FE;\n",
              "      border: none;\n",
              "      border-radius: 50%;\n",
              "      cursor: pointer;\n",
              "      display: none;\n",
              "      fill: #1967D2;\n",
              "      height: 32px;\n",
              "      padding: 0 0 0 0;\n",
              "      width: 32px;\n",
              "    }\n",
              "\n",
              "    .colab-df-convert:hover {\n",
              "      background-color: #E2EBFA;\n",
              "      box-shadow: 0px 1px 2px rgba(60, 64, 67, 0.3), 0px 1px 3px 1px rgba(60, 64, 67, 0.15);\n",
              "      fill: #174EA6;\n",
              "    }\n",
              "\n",
              "    [theme=dark] .colab-df-convert {\n",
              "      background-color: #3B4455;\n",
              "      fill: #D2E3FC;\n",
              "    }\n",
              "\n",
              "    [theme=dark] .colab-df-convert:hover {\n",
              "      background-color: #434B5C;\n",
              "      box-shadow: 0px 1px 3px 1px rgba(0, 0, 0, 0.15);\n",
              "      filter: drop-shadow(0px 1px 2px rgba(0, 0, 0, 0.3));\n",
              "      fill: #FFFFFF;\n",
              "    }\n",
              "  </style>\n",
              "\n",
              "      <script>\n",
              "        const buttonEl =\n",
              "          document.querySelector('#df-16af879a-be79-430e-b84f-4d191e7544da button.colab-df-convert');\n",
              "        buttonEl.style.display =\n",
              "          google.colab.kernel.accessAllowed ? 'block' : 'none';\n",
              "\n",
              "        async function convertToInteractive(key) {\n",
              "          const element = document.querySelector('#df-16af879a-be79-430e-b84f-4d191e7544da');\n",
              "          const dataTable =\n",
              "            await google.colab.kernel.invokeFunction('convertToInteractive',\n",
              "                                                     [key], {});\n",
              "          if (!dataTable) return;\n",
              "\n",
              "          const docLinkHtml = 'Like what you see? Visit the ' +\n",
              "            '<a target=\"_blank\" href=https://colab.research.google.com/notebooks/data_table.ipynb>data table notebook</a>'\n",
              "            + ' to learn more about interactive tables.';\n",
              "          element.innerHTML = '';\n",
              "          dataTable['output_type'] = 'display_data';\n",
              "          await google.colab.output.renderOutput(dataTable, element);\n",
              "          const docLink = document.createElement('div');\n",
              "          docLink.innerHTML = docLinkHtml;\n",
              "          element.appendChild(docLink);\n",
              "        }\n",
              "      </script>\n",
              "    </div>\n",
              "  </div>\n",
              "  "
            ]
          },
          "metadata": {},
          "execution_count": 39
        }
      ]
    },
    {
      "cell_type": "code",
      "source": [
        "# 첫 번째 리뷰를 선택\n",
        "test_sample = test['review_content'][0]\n",
        "test_sample"
      ],
      "metadata": {
        "colab": {
          "base_uri": "https://localhost:8080/",
          "height": 140
        },
        "id": "03_mUxF7WM9f",
        "outputId": "37f58ee3-0e79-4377-e8da-3aec253ee918"
      },
      "execution_count": 41,
      "outputs": [
        {
          "output_type": "execute_result",
          "data": {
            "text/plain": [
              "'아바타 2\\n\\n감독\\n제임스 카메론\\n출연\\n시고니 위버, 스티븐 랭, 조 샐다나, 샘 워싱턴\\n개봉\\n2017 미국\\n\\n리뷰보기\\n\\n\\n\\u200b*** 아바타 2 (2017) ***장르: Sci-Fi, 판타지, 모험, 액션감독: 제임스 카메론주연: 조 셀다나 (네이티리 역), 샘 워싱턴 (제이크 설리 역), 시고니 위버 (그레이스 어거스틴 역), 스티븐 랭 (마일즈 쿼리치 역)...국적: 미국북미 개봉일: 2017년 12월 25일2017년 12월 25일 북미 개봉작으로 기대를 모으고 있는 영화 아바타 2...특히나 주인공 \"네이티리\" 의 캐릭터 이미지가 공개가 되어서 올려봅니다.배우 조 샐다나와 샘 워싱턴, 시고니 위버 그리고 스티븐 랭까지 전편에서 출연했었던 배우들이 그대로 출연을 하고 있어서더욱 기대가 되는 영화인 것 같습니다. 아무튼 제임스 카메론 감독의 영화 아바타 2편을 시작으로2018년 아바타 3와 2019년 아바타 4까지 진행되고 있어서 앞으로 더욱 기대되는 영화 아바타인 것 같습니다.'"
            ],
            "application/vnd.google.colaboratory.intrinsic+json": {
              "type": "string"
            }
          },
          "metadata": {},
          "execution_count": 41
        }
      ]
    },
    {
      "cell_type": "code",
      "source": [
        "# 한글을 제외하고 전부 제거\n",
        "test_sample = re.sub(r\"[^가-힣]\", \"\", test_sample)\n",
        "test_sample"
      ],
      "metadata": {
        "colab": {
          "base_uri": "https://localhost:8080/",
          "height": 105
        },
        "id": "aMJ3RnSzWDCx",
        "outputId": "73f205c8-9f24-4ff7-bbf6-750ef0c1f5b3"
      },
      "execution_count": 42,
      "outputs": [
        {
          "output_type": "execute_result",
          "data": {
            "text/plain": [
              "'아바타감독제임스카메론출연시고니위버스티븐랭조샐다나샘워싱턴개봉미국리뷰보기아바타장르판타지모험액션감독제임스카메론주연조셀다나네이티리역샘워싱턴제이크설리역시고니위버그레이스어거스틴역스티븐랭마일즈쿼리치역국적미국북미개봉일년월일년월일북미개봉작으로기대를모으고있는영화아바타특히나주인공네이티리의캐릭터이미지가공개가되어서올려봅니다배우조샐다나와샘워싱턴시고니위버그리고스티븐랭까지전편에서출연했었던배우들이그대로출연을하고있어서더욱기대가되는영화인것같습니다아무튼제임스카메론감독의영화아바타편을시작으로년아바타와년아바타까지진행되고있어서앞으로더욱기대되는영화아바타인것같습니다'"
            ],
            "application/vnd.google.colaboratory.intrinsic+json": {
              "type": "string"
            }
          },
          "metadata": {},
          "execution_count": 42
        }
      ]
    },
    {
      "cell_type": "code",
      "source": [
        "# 세글자 이상의 명사만 가지고 오기\n",
        "tokens = okt.nouns(test_sample)\n",
        "cleaned_tokens = list()\n",
        "\n",
        "for word in tokens:\n",
        "    if len(word) >= 3:\n",
        "        cleaned_tokens.append(word)\n",
        "    else:\n",
        "        pass\n",
        "cleaned_review = ' '.join(cleaned_tokens)\n",
        "        \n",
        "cleaned_review   "
      ],
      "metadata": {
        "colab": {
          "base_uri": "https://localhost:8080/",
          "height": 53
        },
        "id": "jYs13r92WTl0",
        "outputId": "c81ebe18-82ec-4362-f3c2-076b0f15f220"
      },
      "execution_count": 44,
      "outputs": [
        {
          "output_type": "execute_result",
          "data": {
            "text/plain": [
              "'아바타 제임스 카메론 워싱턴 아바타 판타지 제임스 카메론 네이티 리역샘 워싱턴 제이크 레이스 어거스틴 스티븐 개봉일 아바타 네이티 캐릭터 이미지 워싱턴 스티븐 영화인 제임스 카메론 아바타 아바타 아바타 아바타'"
            ],
            "application/vnd.google.colaboratory.intrinsic+json": {
              "type": "string"
            }
          },
          "metadata": {},
          "execution_count": 44
        }
      ]
    },
    {
      "cell_type": "code",
      "source": [
        "# TF-IDF 변환기에 데이터를 입력하여 변환\n",
        "test_review_tfid = tfid.transform([cleaned_review])\n",
        "\n",
        "# 배열을 출력\n",
        "print(test_review_tfid)"
      ],
      "metadata": {
        "colab": {
          "base_uri": "https://localhost:8080/"
        },
        "id": "d3UlaIX3WVYB",
        "outputId": "e7ae7da4-8458-49e4-bc46-2a342780ed36"
      },
      "execution_count": 45,
      "outputs": [
        {
          "output_type": "stream",
          "name": "stdout",
          "text": [
            "  (0, 532)\t0.5044706303487678\n",
            "  (0, 503)\t0.4531248037993559\n",
            "  (0, 391)\t0.5345060134487065\n",
            "  (0, 356)\t0.5044706303487678\n"
          ]
        }
      ]
    },
    {
      "cell_type": "code",
      "source": [
        "# 로지스틱 회귀 모델을 활용하여 분류 예측\n",
        "test_pred = lr.predict(test_review_tfid)[0]\n",
        "print(\"분석 결과 {}적인 리뷰로 예측됩니다. \".format(\"긍정\" if test_pred > 0 else \"부정\"))"
      ],
      "metadata": {
        "colab": {
          "base_uri": "https://localhost:8080/"
        },
        "id": "9ID3D83TWjIX",
        "outputId": "90a1f740-45a8-4aaa-d635-1cfc40148d72"
      },
      "execution_count": 46,
      "outputs": [
        {
          "output_type": "stream",
          "name": "stdout",
          "text": [
            "분석 결과 부정적인 리뷰로 예측됩니다. \n"
          ]
        }
      ]
    },
    {
      "cell_type": "code",
      "source": [],
      "metadata": {
        "id": "1MFWH7K2WmZo"
      },
      "execution_count": null,
      "outputs": []
    }
  ]
}