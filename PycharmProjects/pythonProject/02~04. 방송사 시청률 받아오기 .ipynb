{
 "cells": [
  {
   "cell_type": "code",
   "execution_count": 15,
   "id": "9b5c4f12",
   "metadata": {},
   "outputs": [
    {
     "name": "stdout",
     "output_type": "stream",
     "text": [
      "         KBS     MBC     SBS  TV CHOSUN   JTBC  Channel A    MBN\n",
      "2011  35.951  18.374  11.173      9.102  7.380      3.771  2.809\n",
      "2012  36.163  16.022  11.408      8.785  7.878      5.874  3.310\n",
      "2013  31.989  16.778   9.673      9.026  7.810      5.350  3.825\n",
      "2014  31.210  15.663   9.108      9.440  7.490      5.776  4.572\n",
      "2015  27.777  16.573   9.099      9.940  7.267      6.678  5.520\n",
      "2016  27.583  14.982   8.669      9.829  7.727      6.624  5.477\n",
      "2017  26.890  12.465   8.661      8.886  9.453      6.056  5.215\n"
     ]
    },
    {
     "data": {
      "text/plain": [
       "27.583"
      ]
     },
     "execution_count": 15,
     "metadata": {},
     "output_type": "execute_result"
    }
   ],
   "source": [
    "import pandas as pd\n",
    "\n",
    "df = pd.read_csv('data/broadcast.csv', index_col=0)\n",
    "\n",
    "print(df)\n",
    "# 여기에 코드를 작성하세요 df.loc[row, col]\n",
    "df.loc[2016,'KBS']"
   ]
  },
  {
   "cell_type": "code",
   "execution_count": 12,
   "id": "1726172d",
   "metadata": {},
   "outputs": [
    {
     "data": {
      "text/plain": [
       "2011    7.380\n",
       "2012    7.878\n",
       "2013    7.810\n",
       "2014    7.490\n",
       "2015    7.267\n",
       "2016    7.727\n",
       "2017    9.453\n",
       "Name: JTBC, dtype: float64"
      ]
     },
     "execution_count": 12,
     "metadata": {},
     "output_type": "execute_result"
    }
   ],
   "source": [
    "import pandas as pd\n",
    "\n",
    "df = pd.read_csv('data/broadcast.csv', index_col=0)\n",
    "\n",
    "# 여기에 코드를 작성하세요 df.loc[row, col] #row에 : 넣어주면 전체 col에 'JTBC'\n",
    "df.loc[:,'JTBC']"
   ]
  },
  {
   "cell_type": "code",
   "execution_count": 16,
   "id": "20feda4c",
   "metadata": {},
   "outputs": [
    {
     "data": {
      "text/html": [
       "<div>\n",
       "<style scoped>\n",
       "    .dataframe tbody tr th:only-of-type {\n",
       "        vertical-align: middle;\n",
       "    }\n",
       "\n",
       "    .dataframe tbody tr th {\n",
       "        vertical-align: top;\n",
       "    }\n",
       "\n",
       "    .dataframe thead th {\n",
       "        text-align: right;\n",
       "    }\n",
       "</style>\n",
       "<table border=\"1\" class=\"dataframe\">\n",
       "  <thead>\n",
       "    <tr style=\"text-align: right;\">\n",
       "      <th></th>\n",
       "      <th>SBS</th>\n",
       "      <th>JTBC</th>\n",
       "    </tr>\n",
       "  </thead>\n",
       "  <tbody>\n",
       "    <tr>\n",
       "      <th>2011</th>\n",
       "      <td>11.173</td>\n",
       "      <td>7.380</td>\n",
       "    </tr>\n",
       "    <tr>\n",
       "      <th>2012</th>\n",
       "      <td>11.408</td>\n",
       "      <td>7.878</td>\n",
       "    </tr>\n",
       "    <tr>\n",
       "      <th>2013</th>\n",
       "      <td>9.673</td>\n",
       "      <td>7.810</td>\n",
       "    </tr>\n",
       "    <tr>\n",
       "      <th>2014</th>\n",
       "      <td>9.108</td>\n",
       "      <td>7.490</td>\n",
       "    </tr>\n",
       "    <tr>\n",
       "      <th>2015</th>\n",
       "      <td>9.099</td>\n",
       "      <td>7.267</td>\n",
       "    </tr>\n",
       "    <tr>\n",
       "      <th>2016</th>\n",
       "      <td>8.669</td>\n",
       "      <td>7.727</td>\n",
       "    </tr>\n",
       "    <tr>\n",
       "      <th>2017</th>\n",
       "      <td>8.661</td>\n",
       "      <td>9.453</td>\n",
       "    </tr>\n",
       "  </tbody>\n",
       "</table>\n",
       "</div>"
      ],
      "text/plain": [
       "         SBS   JTBC\n",
       "2011  11.173  7.380\n",
       "2012  11.408  7.878\n",
       "2013   9.673  7.810\n",
       "2014   9.108  7.490\n",
       "2015   9.099  7.267\n",
       "2016   8.669  7.727\n",
       "2017   8.661  9.453"
      ]
     },
     "execution_count": 16,
     "metadata": {},
     "output_type": "execute_result"
    }
   ],
   "source": [
    "import pandas as pd\n",
    "\n",
    "df = pd.read_csv('data/broadcast.csv', index_col=0)\n",
    "\n",
    "df.loc[:,['SBS','JTBC']]"
   ]
  },
  {
   "cell_type": "code",
   "execution_count": null,
   "id": "d0145524",
   "metadata": {},
   "outputs": [],
   "source": []
  }
 ],
 "metadata": {
  "kernelspec": {
   "display_name": "Python 3 (ipykernel)",
   "language": "python",
   "name": "python3"
  },
  "language_info": {
   "codemirror_mode": {
    "name": "ipython",
    "version": 3
   },
   "file_extension": ".py",
   "mimetype": "text/x-python",
   "name": "python",
   "nbconvert_exporter": "python",
   "pygments_lexer": "ipython3",
   "version": "3.9.13"
  }
 },
 "nbformat": 4,
 "nbformat_minor": 5
}
