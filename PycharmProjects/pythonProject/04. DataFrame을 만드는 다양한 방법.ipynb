{
 "cells": [
  {
   "cell_type": "code",
   "execution_count": 1,
   "id": "8a42b84c",
   "metadata": {},
   "outputs": [
    {
     "name": "stdout",
     "output_type": "stream",
     "text": [
      "          0   1   2\n",
      "0  dongwook  50  86\n",
      "1    sineui  89  31\n",
      "2   ikjoong  68  91\n",
      "3   yoonsoo  88  75\n",
      "          0   1   2\n",
      "0  dongwook  50  86\n",
      "1    sineui  89  31\n",
      "2   ikjoong  68  91\n",
      "3   yoonsoo  88  75\n",
      "          0   1   2\n",
      "0  dongwook  50  86\n",
      "1    sineui  89  31\n",
      "2   ikjoong  68  91\n",
      "3   yoonsoo  88  75\n"
     ]
    }
   ],
   "source": [
    "import numpy as np\n",
    "import pandas as pd\n",
    "\n",
    "#2차원 리스트나 2차원 numpy array로도 DataFrame을 만들 수 있다. \n",
    "\n",
    "two_dimensional_list = [['dongwook', 50, 86], ['sineui', 89, 31], ['ikjoong', 68, 91],['yoonsoo', 88, 75]]\n",
    "two_dimensional_array = np.array(two_dimensional_list)\n",
    "list_of_series = [\n",
    "    pd.Series(['dongwook', 50, 86]),\n",
    "    pd.Series(['sineui', 89, 31]),\n",
    "    pd.Series(['ikjoong', 68, 91]),\n",
    "    pd.Series(['yoonsoo', 88, 75])\n",
    "]\n",
    "#아래 셋은 모두 동일하다.\n",
    "df1 = pd.DataFrame(two_dimensional_list)\n",
    "df2 = pd.DataFrame(two_dimensional_array)\n",
    "df3 = pd.DataFrame(list_of_series)\n",
    "\n",
    "print(df1)\n",
    "print(df2)\n",
    "print(df3)\n"
   ]
  },
  {
   "cell_type": "code",
   "execution_count": 7,
   "id": "b3eea696",
   "metadata": {},
   "outputs": [
    {
     "name": "stdout",
     "output_type": "stream",
     "text": [
      "       name  english_score  math_score\n",
      "0  dongwook             50          86\n",
      "1    sineui             89          31\n",
      "2   ikjoong             68          91\n",
      "3   yoonsoo             88          75\n",
      "       name  english_score  math_score\n",
      "0  dongwook             50          86\n",
      "1    sineui             89          31\n",
      "2   ikjoong             68          91\n",
      "3   yoonsoo             88          75\n",
      "       name  english_score  math_score\n",
      "0  dongwook             50          86\n",
      "1    sineui             89          31\n",
      "2   ikjoong             68          91\n",
      "3   yoonsoo             88          75\n"
     ]
    }
   ],
   "source": [
    "import numpy as np\n",
    "import pandas as pd\n",
    "\n",
    "names = ['dongwook', 'sineui', 'ikjoong', 'yoonsoo']\n",
    "english_scores = [50, 89, 68, 88]\n",
    "math_scores = [86, 31, 91, 75]\n",
    "\n",
    "dict1 = {\n",
    "    'name': names,\n",
    "    'english_score': english_scores,\n",
    "    'math_score': math_scores\n",
    "    \n",
    "}\n",
    "\n",
    "dict2 = {\n",
    "    'name' : np.array(names),\n",
    "    'english_score' : np.array(english_scores),\n",
    "    'math_score' : np.array(math_scores)\n",
    "}\n",
    "\n",
    "dict3 = {\n",
    "    'name' : pd.Series(names),\n",
    "    'english_score' : pd.Series(english_scores),\n",
    "    'math_score': pd.Series(math_scores)\n",
    "}\n",
    "#아래 셋은 모두 동일하다.\n",
    "df1 = pd.DataFrame(dict1)\n",
    "df2 = pd.DataFrame(dict2)\n",
    "df3 = pd.DataFrame(dict3)\n",
    "\n",
    "print(df1)\n",
    "print(df2)\n",
    "print(df3)"
   ]
  },
  {
   "cell_type": "code",
   "execution_count": 8,
   "id": "7b7842b6",
   "metadata": {},
   "outputs": [
    {
     "name": "stdout",
     "output_type": "stream",
     "text": [
      "       name  english_score  math_score\n",
      "0  dongwook             50          86\n",
      "1    sineui             89          31\n",
      "2   ikjoong             68          91\n",
      "3   yoonsoo             88          75\n"
     ]
    }
   ],
   "source": [
    "import numpy as np\n",
    "import pandas as pd\n",
    "#리스트 내의 딕셔너리를 만들어줌\n",
    "my_list = [\n",
    "    {'name': 'dongwook', 'english_score': 50, 'math_score': 86},\n",
    "    {'name': 'sineui', 'english_score': 89, 'math_score': 31},\n",
    "    {'name': 'ikjoong', 'english_score': 68, 'math_score': 91},\n",
    "    {'name': 'yoonsoo', 'english_score': 88, 'math_score': 75}\n",
    "]\n",
    "\n",
    "df = pd.DataFrame(my_list)\n",
    "print(df)"
   ]
  },
  {
   "cell_type": "code",
   "execution_count": null,
   "id": "c0f8fe9e",
   "metadata": {},
   "outputs": [],
   "source": []
  }
 ],
 "metadata": {
  "kernelspec": {
   "display_name": "Python 3 (ipykernel)",
   "language": "python",
   "name": "python3"
  },
  "language_info": {
   "codemirror_mode": {
    "name": "ipython",
    "version": 3
   },
   "file_extension": ".py",
   "mimetype": "text/x-python",
   "name": "python",
   "nbconvert_exporter": "python",
   "pygments_lexer": "ipython3",
   "version": "3.9.13"
  }
 },
 "nbformat": 4,
 "nbformat_minor": 5
}
