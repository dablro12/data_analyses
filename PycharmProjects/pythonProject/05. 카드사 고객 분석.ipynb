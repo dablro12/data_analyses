{
 "cells": [
  {
   "cell_type": "code",
   "execution_count": 1,
   "id": "08ed9fa4",
   "metadata": {},
   "outputs": [],
   "source": [
    "import pandas as pd\n",
    "\n",
    "samsong_df = pd.read_csv('data/samsong.csv')\n",
    "hyundee_df = pd.read_csv('data/hyundee.csv')\n",
    "\n",
    "# 여기에 코드를 작성하세요"
   ]
  },
  {
   "cell_type": "code",
   "execution_count": 35,
   "id": "59425db5",
   "metadata": {},
   "outputs": [
    {
     "data": {
      "text/plain": [
       "pandas.core.frame.DataFrame"
      ]
     },
     "execution_count": 35,
     "metadata": {},
     "output_type": "execute_result"
    }
   ],
   "source": [
    "sam_culture = samsong_df.loc[:,['문화생활비']]\n",
    "hyun_culture = hyundee_df.loc[:,['문화생활비']]\n",
    "day = samsong_df.loc[:,['요일']]\n",
    "total_f = {\"day\" : day, \"samsong\" : sam_culture, \"hyundee\" : hyun_culture}\n",
    "type(day) #->dataframe임 즉, dataframe을 슬라이싱하면 -> dataframe []를 넣으면\n",
    "#-> 에러가 뜸\n",
    "\n"
   ]
  },
  {
   "cell_type": "code",
   "execution_count": 32,
   "id": "6027686c",
   "metadata": {},
   "outputs": [
    {
     "name": "stdout",
     "output_type": "stream",
     "text": [
      "<class 'pandas.core.series.Series'>\n"
     ]
    }
   ],
   "source": [
    "type(day) #-> 데이터프레임이므로\n",
    "sam_culture = samsong_df.loc[:,'문화생활비']\n",
    "hyun_culture = hyundee_df.loc[:,'문화생활비']\n",
    "day = samsong_df.loc[:,'요일']\n",
    "total_f = {\"day\" : day, \"samsong\" : sam_culture, \"hyundee\" : hyun_culture}\n",
    "pd.DataFrame(total_f) #잘뜸\n",
    "print(type(day)) #->Series임 이는 DataFrame에 들어 갈 수 있음"
   ]
  },
  {
   "cell_type": "code",
   "execution_count": 36,
   "id": "aa91a685",
   "metadata": {},
   "outputs": [
    {
     "data": {
      "text/html": [
       "<div>\n",
       "<style scoped>\n",
       "    .dataframe tbody tr th:only-of-type {\n",
       "        vertical-align: middle;\n",
       "    }\n",
       "\n",
       "    .dataframe tbody tr th {\n",
       "        vertical-align: top;\n",
       "    }\n",
       "\n",
       "    .dataframe thead th {\n",
       "        text-align: right;\n",
       "    }\n",
       "</style>\n",
       "<table border=\"1\" class=\"dataframe\">\n",
       "  <thead>\n",
       "    <tr style=\"text-align: right;\">\n",
       "      <th></th>\n",
       "      <th>day</th>\n",
       "      <th>samsong</th>\n",
       "      <th>hyundee</th>\n",
       "    </tr>\n",
       "  </thead>\n",
       "  <tbody>\n",
       "    <tr>\n",
       "      <th>0</th>\n",
       "      <td>MON</td>\n",
       "      <td>4308</td>\n",
       "      <td>5339</td>\n",
       "    </tr>\n",
       "    <tr>\n",
       "      <th>1</th>\n",
       "      <td>TUE</td>\n",
       "      <td>7644</td>\n",
       "      <td>3524</td>\n",
       "    </tr>\n",
       "    <tr>\n",
       "      <th>2</th>\n",
       "      <td>WED</td>\n",
       "      <td>5674</td>\n",
       "      <td>5364</td>\n",
       "    </tr>\n",
       "    <tr>\n",
       "      <th>3</th>\n",
       "      <td>THU</td>\n",
       "      <td>8621</td>\n",
       "      <td>9942</td>\n",
       "    </tr>\n",
       "    <tr>\n",
       "      <th>4</th>\n",
       "      <td>FRI</td>\n",
       "      <td>23052</td>\n",
       "      <td>33511</td>\n",
       "    </tr>\n",
       "    <tr>\n",
       "      <th>5</th>\n",
       "      <td>SAT</td>\n",
       "      <td>15330</td>\n",
       "      <td>19397</td>\n",
       "    </tr>\n",
       "    <tr>\n",
       "      <th>6</th>\n",
       "      <td>SUN</td>\n",
       "      <td>19030</td>\n",
       "      <td>19925</td>\n",
       "    </tr>\n",
       "  </tbody>\n",
       "</table>\n",
       "</div>"
      ],
      "text/plain": [
       "   day  samsong  hyundee\n",
       "0  MON     4308     5339\n",
       "1  TUE     7644     3524\n",
       "2  WED     5674     5364\n",
       "3  THU     8621     9942\n",
       "4  FRI    23052    33511\n",
       "5  SAT    15330    19397\n",
       "6  SUN    19030    19925"
      ]
     },
     "execution_count": 36,
     "metadata": {},
     "output_type": "execute_result"
    }
   ],
   "source": [
    "sam_culture = samsong_df.loc[:,'문화생활비']\n",
    "hyun_culture = hyundee_df.loc[:,'문화생활비']\n",
    "day = samsong_df.loc[:,'요일']\n",
    "total_f = {\"day\" : day, \"samsong\" : sam_culture, \"hyundee\" : hyun_culture}\n",
    "pd.DataFrame(total_f) #잘뜸"
   ]
  },
  {
   "cell_type": "code",
   "execution_count": null,
   "id": "87a53ed4",
   "metadata": {},
   "outputs": [],
   "source": []
  }
 ],
 "metadata": {
  "kernelspec": {
   "display_name": "Python 3 (ipykernel)",
   "language": "python",
   "name": "python3"
  },
  "language_info": {
   "codemirror_mode": {
    "name": "ipython",
    "version": 3
   },
   "file_extension": ".py",
   "mimetype": "text/x-python",
   "name": "python",
   "nbconvert_exporter": "python",
   "pygments_lexer": "ipython3",
   "version": "3.9.13"
  }
 },
 "nbformat": 4,
 "nbformat_minor": 5
}
