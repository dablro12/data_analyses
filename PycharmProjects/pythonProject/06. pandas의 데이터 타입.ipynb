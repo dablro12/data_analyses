{
 "cells": [
  {
   "cell_type": "code",
   "execution_count": 1,
   "id": "ba595fe8",
   "metadata": {},
   "outputs": [
    {
     "name": "stdout",
     "output_type": "stream",
     "text": [
      "name             object\n",
      "english_score     int64\n",
      "math_score        int64\n",
      "dtype: object\n"
     ]
    }
   ],
   "source": [
    "#pandas DataFrame에는 다양한 종류의 데이터를 담을 수 있음 \n",
    "import pandas as pd\n",
    "\n",
    "two_dimensional_list = [['dongwook', 50, 86], ['sineui', 89, 31], ['ikjoong', 68, 91], ['yoonsoo', 88, 75]]\n",
    "\n",
    "my_df = pd.DataFrame(two_dimensional_list, columns=['name', 'english_score', 'math_score'], index=['a', 'b', 'c', 'd'])\n",
    "\n",
    "print(my_df.dtypes) #변수.dtypes를 통해 칼럼마다 어떠한 요소를 가지고 있는지 알려줌\n",
    "\n"
   ]
  },
  {
   "cell_type": "markdown",
   "id": "70559b36",
   "metadata": {},
   "source": [
    "pandas의 dtype들\n",
    "pandas에 담을 수 있는 dtype(데이터 타입) 몇 가지를 살펴봅시다.\n",
    "\n",
    "dtype\t설명\n",
    "int64\t정수\n",
    "float64\t소수\n",
    "object\t텍스트\n",
    "bool\t불린(참과 거짓)\n",
    "datetime64\t날짜와 시간\n",
    "category\t카테고리\n"
   ]
  }
 ],
 "metadata": {
  "kernelspec": {
   "display_name": "Python 3 (ipykernel)",
   "language": "python",
   "name": "python3"
  },
  "language_info": {
   "codemirror_mode": {
    "name": "ipython",
    "version": 3
   },
   "file_extension": ".py",
   "mimetype": "text/x-python",
   "name": "python",
   "nbconvert_exporter": "python",
   "pygments_lexer": "ipython3",
   "version": "3.9.13"
  }
 },
 "nbformat": 4,
 "nbformat_minor": 5
}
