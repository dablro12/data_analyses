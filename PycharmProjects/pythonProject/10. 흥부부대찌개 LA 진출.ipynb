{
 "cells": [
  {
   "cell_type": "code",
   "execution_count": 1,
   "id": "46fefc3d",
   "metadata": {},
   "outputs": [
    {
     "data": {
      "text/plain": [
       "array([3024263.62038664, 3427498.76977153, 3225881.19507909,\n",
       "       3629116.34446397, 4435586.64323374, 1411323.0228471 ,\n",
       "       1814558.17223199, 3427498.76977153, 3326689.98242531,\n",
       "       2923454.83304042, 2822646.0456942 , 3830733.91915641,\n",
       "       1713749.38488576, 1411323.0228471 , 2318602.10896309,\n",
       "       3931542.70650264, 4032351.49384886, 3528307.55711775,\n",
       "       3830733.91915641, 1512131.81019332, 1108896.66080844,\n",
       "       2419410.89630931, 3830733.91915641, 3830733.91915641,\n",
       "       3427498.76977153, 4233969.0685413 , 1512131.81019332,\n",
       "       1310514.23550088, 3629116.34446397, 3225881.19507909,\n",
       "       2520219.68365554])"
      ]
     },
     "execution_count": 1,
     "metadata": {},
     "output_type": "execute_result"
    }
   ],
   "source": [
    "import numpy as np\n",
    "\n",
    "revenue_in_yen = [\n",
    "    300000, 340000, 320000, 360000, \n",
    "    440000, 140000, 180000, 340000, \n",
    "    330000, 290000, 280000, 380000, \n",
    "    170000, 140000, 230000, 390000, \n",
    "    400000, 350000, 380000, 150000, \n",
    "    110000, 240000, 380000, 380000, \n",
    "    340000, 420000, 150000, 130000, \n",
    "    360000, 320000, 250000\n",
    "]\n",
    "\n",
    "revenue_in_dollar = [\n",
    "    1200, 1600, 1400, 1300, \n",
    "    2100, 1400, 1500, 2100, \n",
    "    1500, 1500, 2300, 2100, \n",
    "    2800, 2600, 1700, 1400, \n",
    "    2100, 2300, 1600, 1800, \n",
    "    2200, 2400, 2100, 2800, \n",
    "    1900, 2100, 1800, 2200, \n",
    "    2100, 1600, 1800\n",
    "]\n",
    "\n",
    "# 여기에 코드를 작성하세요\n",
    "#엔화 -> 원화 | 1엔 : 10.08원\n",
    "won_jpn_array = np.array(revenue_in_yen)\n",
    "won_jpn_array = won_jpn_array * 10.08\n",
    "\n",
    "#원화 -> 달러 | 1달러 : 1138원\n",
    "won_usd_array = np.array(revenue_in_dollar)\n",
    "won_usd_array = won_usd_array * 1138\n",
    "\n",
    "won_array = won_jpn_array + won_usd_array\n",
    "\n",
    "# 테스트 코드\n",
    "won_array\n",
    "\n"
   ]
  },
  {
   "cell_type": "code",
   "execution_count": null,
   "id": "5784c11e",
   "metadata": {},
   "outputs": [],
   "source": []
  }
 ],
 "metadata": {
  "kernelspec": {
   "display_name": "Python 3 (ipykernel)",
   "language": "python",
   "name": "python3"
  },
  "language_info": {
   "codemirror_mode": {
    "name": "ipython",
    "version": 3
   },
   "file_extension": ".py",
   "mimetype": "text/x-python",
   "name": "python",
   "nbconvert_exporter": "python",
   "pygments_lexer": "ipython3",
   "version": "3.9.13"
  }
 },
 "nbformat": 4,
 "nbformat_minor": 5
}
