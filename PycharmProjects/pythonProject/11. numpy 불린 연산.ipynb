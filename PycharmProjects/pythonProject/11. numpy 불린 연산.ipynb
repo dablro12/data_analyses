{
 "cells": [
  {
   "cell_type": "code",
   "execution_count": 1,
   "id": "177608c8",
   "metadata": {},
   "outputs": [],
   "source": [
    "import numpy as np"
   ]
  },
  {
   "cell_type": "code",
   "execution_count": 2,
   "id": "3b7a75d9",
   "metadata": {},
   "outputs": [],
   "source": [
    "array1 = np.array([2,3,5,7,11,13,17,19, 23, 29, 31])"
   ]
  },
  {
   "cell_type": "code",
   "execution_count": 3,
   "id": "a0e17796",
   "metadata": {},
   "outputs": [
    {
     "data": {
      "text/plain": [
       "array([False, False,  True,  True,  True,  True,  True,  True,  True,\n",
       "        True,  True])"
      ]
     },
     "execution_count": 3,
     "metadata": {},
     "output_type": "execute_result"
    }
   ],
   "source": [
    "array1 > 4 #array1 리스트가 요소가 4보다 큰지 작은지 확인해서 True, False 반환"
   ]
  },
  {
   "cell_type": "code",
   "execution_count": 4,
   "id": "d3c2ff76",
   "metadata": {},
   "outputs": [
    {
     "data": {
      "text/plain": [
       "array([ True, False, False, False, False, False, False, False, False,\n",
       "       False, False])"
      ]
     },
     "execution_count": 4,
     "metadata": {},
     "output_type": "execute_result"
    }
   ],
   "source": [
    "array1 % 2 == 0 # 짝수인 수는 True 홀수이면 False 반환"
   ]
  },
  {
   "cell_type": "code",
   "execution_count": 5,
   "id": "588d635a",
   "metadata": {},
   "outputs": [],
   "source": [
    "booleans = np.array([True, True, False, True, True, False, True, True, False, True])"
   ]
  },
  {
   "cell_type": "code",
   "execution_count": 6,
   "id": "e7e4451b",
   "metadata": {},
   "outputs": [
    {
     "data": {
      "text/plain": [
       "(array([0, 1, 3, 4, 6, 7, 9]),)"
      ]
     },
     "execution_count": 6,
     "metadata": {},
     "output_type": "execute_result"
    }
   ],
   "source": [
    "np.where(booleans)  #True 인 값곳의 index만 출력"
   ]
  },
  {
   "cell_type": "code",
   "execution_count": 10,
   "id": "c4d624f5",
   "metadata": {},
   "outputs": [
    {
     "data": {
      "text/plain": [
       "(array([ 2,  3,  4,  5,  6,  7,  8,  9, 10]),)"
      ]
     },
     "execution_count": 10,
     "metadata": {},
     "output_type": "execute_result"
    }
   ],
   "source": [
    "array1 > 4\n",
    "np.where(array1 > 4) #->array 1에서 4보다 큰 값을 반환\n",
    "#np.where(리스트명)를 통해 필요한 조건에 맞는 리스트 요소만 가지고 올 수 있음\n",
    "filter = np.where(array1 > 4)\n",
    "filter\n"
   ]
  }
 ],
 "metadata": {
  "kernelspec": {
   "display_name": "Python 3 (ipykernel)",
   "language": "python",
   "name": "python3"
  },
  "language_info": {
   "codemirror_mode": {
    "name": "ipython",
    "version": 3
   },
   "file_extension": ".py",
   "mimetype": "text/x-python",
   "name": "python",
   "nbconvert_exporter": "python",
   "pygments_lexer": "ipython3",
   "version": "3.9.13"
  }
 },
 "nbformat": 4,
 "nbformat_minor": 5
}
