{
 "cells": [
  {
   "cell_type": "code",
   "execution_count": null,
   "id": "4e45c23e",
   "metadata": {},
   "outputs": [],
   "source": [
    "#문법차이\n",
    "numpy array vs python_list\n",
    "같은 크기를 더하면 ?\n",
    "numpy_array를 더하면 값이 더해짐\n",
    "python_list를 더하면 반복해짐\n",
    "\n",
    "ex)\n",
    "numpy_array = python_list = [10, 5, 3, 7]\n",
    "numpy_array + 5 = [15, 10, 8, 12]\n",
    "numpy_array - 5 = [5, 0, -2, 2]\n",
    "numpy_array * 5 = [50, 25, 15, 35]\n",
    "numpy_array / 5 = [2, 1 , 0.6, 1.4]\n",
    "\n",
    "python_list * 5 => [10, 5, 3, 7] [10, 5, 3, 7] [10, 5, 3, 7]\n",
    "python_list +,-,/ 5 -> 에러뜸\n",
    "\n",
    "\n",
    "#성능차이\n",
    "numpy_array : 문법이 간단 + 뛰어난 성능\n",
    "\n",
    "#성능차이가 있는 이유\n",
    "python_list = 다양한 자료형이 들어갈 수 있음\n",
    "numpy_array = 하나의 형식만 쓸 수 있음\n",
    "\n",
    "#언제 어떤걸 쓸까?\n",
    "python_list = 값을 추가하고 제거하는 일\n",
    "numpy_list = 수치 계산이 많고 복잡할때 /행렬과 같은 다차원 배열 경우\n",
    "\n"
   ]
  }
 ],
 "metadata": {
  "kernelspec": {
   "display_name": "Python 3 (ipykernel)",
   "language": "python",
   "name": "python3"
  },
  "language_info": {
   "codemirror_mode": {
    "name": "ipython",
    "version": 3
   },
   "file_extension": ".py",
   "mimetype": "text/x-python",
   "name": "python",
   "nbconvert_exporter": "python",
   "pygments_lexer": "ipython3",
   "version": "3.9.13"
  }
 },
 "nbformat": 4,
 "nbformat_minor": 5
}
