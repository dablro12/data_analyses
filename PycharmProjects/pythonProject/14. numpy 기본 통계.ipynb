{
 "cells": [
  {
   "cell_type": "code",
   "execution_count": 3,
   "id": "1151655a",
   "metadata": {},
   "outputs": [
    {
     "name": "stdout",
     "output_type": "stream",
     "text": [
      "31\n",
      "5\n",
      "15.25\n",
      "13.5\n",
      "8.496322733983215\n",
      "72.1875\n"
     ]
    }
   ],
   "source": [
    "import numpy as np\n",
    "\n",
    "array1 = np.array([14,6, 13, 21, 23, 31, 9 ,5])\n",
    "\n",
    "print(array1.max()) #최대값을 구하고 싶으면 array명.max() 하면 됨\n",
    "print(array1.min()) #최솟값을 구하고 싶으면 array명.min() 하면 됨\n",
    "print(array1.mean()) #평균값을 구하고 싶으면 array명.mean() 하면 됨\n",
    "print(np.median(array1)) #중앙값을 구하고 싶으면 np.median(array명) 하면 됨\n",
    "print(np.std(array1)) #표준 편차를 구하고 싶으면 np.std(array명) 하면 됨\n",
    "print(np.var(array1)) #분산값을 구하고 싶으면 np.var(array명) 하면 됨"
   ]
  },
  {
   "cell_type": "code",
   "execution_count": null,
   "id": "cb47e66b",
   "metadata": {},
   "outputs": [],
   "source": []
  }
 ],
 "metadata": {
  "kernelspec": {
   "display_name": "Python 3 (ipykernel)",
   "language": "python",
   "name": "python3"
  },
  "language_info": {
   "codemirror_mode": {
    "name": "ipython",
    "version": 3
   },
   "file_extension": ".py",
   "mimetype": "text/x-python",
   "name": "python",
   "nbconvert_exporter": "python",
   "pygments_lexer": "ipython3",
   "version": "3.9.13"
  }
 },
 "nbformat": 4,
 "nbformat_minor": 5
}
