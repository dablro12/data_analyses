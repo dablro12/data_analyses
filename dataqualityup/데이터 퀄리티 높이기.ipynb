{
 "cells": [
  {
   "attachments": {},
   "cell_type": "markdown",
   "metadata": {},
   "source": [
    "좋은 알고리즘 + 안좋은 데이터 => 안좋은 결과 \n",
    "좋은 알고리즘 + 좋은 데이터 => 좋은 결과 "
   ]
  },
  {
   "attachments": {},
   "cell_type": "markdown",
   "metadata": {},
   "source": [
    "### 즉 좋은 데이터를 만들어야함 !!!\n",
    "## 이를 위해 데이터에 완결성/유일성/통일성/정확성을 지켜야함 \n",
    "\n",
    "## 좋은 데이터의 기준\n",
    "### 완결성 : 데이터가 빠진게 없어야함 \n",
    "### 유일성 : 데이터 라벨에 따라 하나의 값 \n",
    "### 통일성 : 똑같은 컬럼에 있는 레이블은 똑같은 형식으로 존재해야함\n",
    "### 정확성 : 보통 데이터 수집시에 문제가 생기는데 데이터 수집시 \"이상점\"을 통해 데이터를 정확성을 확인해보자! "
   ]
  },
  {
   "attachments": {},
   "cell_type": "markdown",
   "metadata": {},
   "source": []
  },
  {
   "cell_type": "code",
   "execution_count": null,
   "metadata": {},
   "outputs": [],
   "source": []
  }
 ],
 "metadata": {
  "kernelspec": {
   "display_name": "Python 3",
   "language": "python",
   "name": "python3"
  },
  "language_info": {
   "codemirror_mode": {
    "name": "ipython",
    "version": 3
   },
   "file_extension": ".py",
   "mimetype": "text/x-python",
   "name": "python",
   "nbconvert_exporter": "python",
   "pygments_lexer": "ipython3",
   "version": "3.9.6 (default, Sep 26 2022, 11:37:49) \n[Clang 14.0.0 (clang-1400.0.29.202)]"
  },
  "orig_nbformat": 4,
  "vscode": {
   "interpreter": {
    "hash": "31f2aee4e71d21fbe5cf8b01ff0e069b9275f58929596ceb00d14d90e3e16cd6"
   }
  }
 },
 "nbformat": 4,
 "nbformat_minor": 2
}
